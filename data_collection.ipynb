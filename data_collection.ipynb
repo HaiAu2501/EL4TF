{
 "cells": [
  {
   "cell_type": "code",
   "execution_count": 1,
   "id": "3e667c90",
   "metadata": {},
   "outputs": [
    {
     "data": {
      "text/html": [
       "<!DOCTYPE html>\n",
       "<html lang=\"vi\">\n",
       "<head>\n",
       "  <meta charset=\"UTF-8\">\n",
       "  <meta name=\"viewport\" content=\"width=device-width, initial-scale=1\">\n",
       "  <title>Vnstock – Còn <span id=\"starsLeft\">180</span> ⭐ nữa!</title>\n",
       "  <style>\n",
       "    /* Chỉ áp dụng biến CSS bên trong #ad-container */\n",
       "    #ad-container {\n",
       "      --primary: #4CAF50;\n",
       "      --hover:   #8C52FF;\n",
       "      --bg:      #ffffff;\n",
       "      --text:    #333333;\n",
       "      /* Thiết lập khung chứa, không chạm tới body chung */\n",
       "      display: flex;\n",
       "      justify-content: center;\n",
       "      align-items: center;\n",
       "      padding: 20px;\n",
       "      box-sizing: border-box;\n",
       "    }\n",
       "    /* Chỉ ảnh hưởng vào .ad bên trong #ad-container */\n",
       "    #ad-container .ad {\n",
       "      max-width: 360px;\n",
       "      width: 100%;\n",
       "      background: var(--bg);\n",
       "      color: var(--text);\n",
       "      border: 1px solid #e0e0e0;\n",
       "      border-radius: 8px;\n",
       "      box-shadow: 0 4px 12px rgba(0,0,0,0.05);\n",
       "      padding: 20px;\n",
       "      text-align: center;\n",
       "      font-family: 'Segoe UI', sans-serif;\n",
       "    }\n",
       "    #ad-container .ad h1 {\n",
       "      font-size: 22px;\n",
       "      margin-bottom: 16px;\n",
       "      line-height: 1.2;\n",
       "    }\n",
       "    #ad-container .progress {\n",
       "      background: #f0f0f0;\n",
       "      border-radius: 10px;\n",
       "      overflow: hidden;\n",
       "      height: 12px;\n",
       "      margin-bottom: 8px;\n",
       "    }\n",
       "    #ad-container .progress .fill {\n",
       "      width: 80%; /* mặc định 80% */\n",
       "      height: 100%;\n",
       "      background: var(--primary);\n",
       "      transition: width 1s ease-out;\n",
       "    }\n",
       "    #ad-container .progress-text {\n",
       "      font-size: 12px;\n",
       "      color: #666;\n",
       "      margin-bottom: 20px;\n",
       "    }\n",
       "    #ad-container .description {\n",
       "      font-size: 14px;\n",
       "      line-height: 1.5;\n",
       "      color: #444;\n",
       "      margin-bottom: 24px;\n",
       "      text-align: left;\n",
       "    }\n",
       "    #ad-container .btn {\n",
       "      display: inline-block;\n",
       "      padding: 10px 20px;\n",
       "      background: var(--primary);\n",
       "      color: #fff;\n",
       "      text-decoration: none;\n",
       "      font-weight: bold;\n",
       "      border-radius: 20px;\n",
       "      transition: background 0.3s;\n",
       "    }\n",
       "    #ad-container .btn:hover {\n",
       "      background: var(--hover);\n",
       "    }\n",
       "  </style>\n",
       "</head>\n",
       "<body>\n",
       "  <!-- Container cô lập CSS -->\n",
       "  <div id=\"ad-container\">\n",
       "    <div class=\"ad\">\n",
       "      <h1 id=\"ad-title\">\n",
       "        Còn <span id=\"starsLeft\">180</span> ⭐ nữa để chạm mốc 1.000!\n",
       "      </h1>\n",
       "\n",
       "      <div class=\"progress\">\n",
       "        <div class=\"fill\"></div>\n",
       "      </div>\n",
       "      <div class=\"progress-text\" id=\"progressText\">820 / 1000 ⭐</div>\n",
       "\n",
       "      <p class=\"description\">\n",
       "        Mỗi ⭐ của bạn tiếp sức cho Vnstock phát triển nhanh hơn, mạnh mẽ hơn và duy trì nguồn mở.\n",
       "      </p>\n",
       "\n",
       "      <a href=\"https://github.com/thinh-vu/vnstock\" target=\"_blank\" class=\"btn\">\n",
       "        ⭐ Thả Star Ngay!\n",
       "      </a>\n",
       "    </div>\n",
       "  </div>\n",
       "\n",
       "  <script>\n",
       "    document.addEventListener('DOMContentLoaded', () => {\n",
       "      fetch('https://api.github.com/repos/thinh-vu/vnstock')\n",
       "        .then(res => res.json())\n",
       "        .then(data => {\n",
       "          const count = data.stargazers_count || 0;\n",
       "          const left  = Math.max(1000 - count, 0);\n",
       "          const pct   = Math.min((count / 1000) * 100, 100);\n",
       "\n",
       "          document.querySelector('#ad-container .progress .fill')\n",
       "                  .style.width = pct + '%';\n",
       "          document.getElementById('progressText')\n",
       "                  .textContent = `${count} / 1000 ⭐`;\n",
       "          document.getElementById('starsLeft')\n",
       "                  .textContent = left;\n",
       "        })\n",
       "        .catch(() => {\n",
       "          // Giữ nguyên mặc định nếu fetch lỗi\n",
       "        });\n",
       "    });\n",
       "  </script>\n",
       "</body>\n",
       "</html>\n"
      ],
      "text/plain": [
       "<IPython.core.display.HTML object>"
      ]
     },
     "metadata": {},
     "output_type": "display_data"
    }
   ],
   "source": [
    "import pandas as pd\n",
    "from vnstock import Vnstock"
   ]
  },
  {
   "cell_type": "code",
   "execution_count": 2,
   "id": "bd033db7",
   "metadata": {},
   "outputs": [
    {
     "name": "stderr",
     "output_type": "stream",
     "text": [
      "2025-05-12 21:56:34 - vnstock.common.vnstock - INFO - Mã chứng khoán không được chỉ định, chương trình mặc định sử dụng VN30F1M\n",
      "2025-05-12 21:56:34 - vnstock.common.data.data_explorer - INFO - Không phải là mã chứng khoán, thông tin công ty và tài chính không khả dụng.\n"
     ]
    }
   ],
   "source": [
    "stock = Vnstock().stock()"
   ]
  },
  {
   "cell_type": "code",
   "execution_count": 3,
   "id": "310fbe3d",
   "metadata": {},
   "outputs": [],
   "source": [
    "vn30 = stock.listing.symbols_by_group('VN30').to_list()"
   ]
  },
  {
   "cell_type": "code",
   "execution_count": null,
   "id": "8ea79243",
   "metadata": {},
   "outputs": [],
   "source": [
    "for symbol in vn30:\n",
    "\t# 4 years of data for training\n",
    "\tdf = stock.quote.history(symbol=symbol, start='2020-01-01', end='2023-12-31', interval='1D')\n",
    "\tdf.to_csv(f'data/vn30/{symbol}_train.csv', index=False)"
   ]
  },
  {
   "cell_type": "code",
   "execution_count": null,
   "id": "6052917a",
   "metadata": {},
   "outputs": [],
   "source": [
    "for symbol in vn30:\n",
    "\t# 2 years of data for testing\n",
    "\tdf = stock.quote.history(symbol=symbol, start='2024-01-01', end='2025-04-30', interval='1D')\n",
    "\tdf.to_csv(f'data/vn30/{symbol}_test.csv', index=False)"
   ]
  }
 ],
 "metadata": {
  "kernelspec": {
   "display_name": "env",
   "language": "python",
   "name": "python3"
  },
  "language_info": {
   "codemirror_mode": {
    "name": "ipython",
    "version": 3
   },
   "file_extension": ".py",
   "mimetype": "text/x-python",
   "name": "python",
   "nbconvert_exporter": "python",
   "pygments_lexer": "ipython3",
   "version": "3.12.0"
  }
 },
 "nbformat": 4,
 "nbformat_minor": 5
}
