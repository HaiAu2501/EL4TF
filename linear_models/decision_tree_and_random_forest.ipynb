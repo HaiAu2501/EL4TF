{
 "cells": [
  {
   "cell_type": "code",
   "execution_count": 1,
   "metadata": {},
   "outputs": [],
   "source": [
    "import pandas as pd\n",
    "from sklearn.preprocessing import StandardScaler\n",
    "df_train_full_raw = pd.read_csv('../data/vn30/GAS_train.csv')\n",
    "df_test_raw = pd.read_csv('../data/vn30/GAS_test.csv')\n",
    "\n",
    "df_train_full = df_train_full_raw.copy()\n",
    "df_test = df_test_raw.copy()\n",
    "\n",
    "target_columns = ['open', 'high', 'low', 'close', 'volume']\n"
   ]
  },
  {
   "cell_type": "code",
   "execution_count": 2,
   "metadata": {},
   "outputs": [],
   "source": [
    "n_total_train = len(df_train_full)\n",
    "n_train_split = int(n_total_train * 0.7)\n",
    "\n",
    "df_train = df_train_full.iloc[:n_train_split].copy()\n",
    "df_valid = df_train_full.iloc[n_train_split:].copy()\n"
   ]
  },
  {
   "cell_type": "code",
   "execution_count": 3,
   "metadata": {},
   "outputs": [],
   "source": [
    "scaler = StandardScaler()\n",
    "\n",
    "df_train[target_columns] = scaler.fit_transform(df_train[target_columns])\n",
    "df_valid[target_columns] = scaler.transform(df_valid[target_columns])\n",
    "df_test[target_columns] = scaler.transform(df_test[target_columns])"
   ]
  },
  {
   "cell_type": "code",
   "execution_count": 4,
   "metadata": {},
   "outputs": [],
   "source": [
    "scaler_for_full_train = StandardScaler()\n",
    "df_train_full_scaled = df_train_full.copy() \n",
    "df_train_full_scaled[target_columns] = scaler_for_full_train.fit_transform(df_train_full_scaled[target_columns])\n",
    "df_test_for_final_eval = df_test_raw.copy() \n",
    "df_test_for_final_eval[target_columns] = scaler_for_full_train.transform(df_test_for_final_eval[target_columns])\n"
   ]
  },
  {
   "cell_type": "code",
   "execution_count": 5,
   "metadata": {},
   "outputs": [],
   "source": [
    "def create_lagged_features(df, target_cols, n_lags=4):\n",
    "    df_copy = df.copy()\n",
    "    feature_names = []\n",
    "    for col in target_cols:\n",
    "        for i in range(1, n_lags + 1):\n",
    "            lag_col_name = f'{col}_lag_{i}'\n",
    "            df_copy[lag_col_name] = df_copy[col].shift(i)\n",
    "            feature_names.append(lag_col_name)\n",
    "    return df_copy, feature_names\n",
    "\n",
    "n_lags = 4\n",
    "df_train_featured, features_columns = create_lagged_features(df_train, target_columns, n_lags=n_lags)\n",
    "df_valid_featured, _ = create_lagged_features(df_valid, target_columns, n_lags=n_lags) \n",
    "df_test_featured, _ = create_lagged_features(df_test_for_final_eval, target_columns, n_lags=n_lags)\n",
    "df_train_full_featured, _ = create_lagged_features(df_train_full_scaled, target_columns, n_lags=n_lags)\n",
    "\n",
    "df_train_featured.dropna(inplace=True)\n",
    "df_valid_featured.dropna(inplace=True)\n",
    "df_test_featured.dropna(inplace=True)\n",
    "df_train_full_featured.dropna(inplace=True)"
   ]
  },
  {
   "cell_type": "code",
   "execution_count": 6,
   "metadata": {},
   "outputs": [],
   "source": [
    "X_train = df_train_featured[features_columns]\n",
    "Y_train = df_train_featured[target_columns]\n",
    "\n",
    "X_valid = df_valid_featured[features_columns]\n",
    "Y_valid = df_valid_featured[target_columns]\n",
    "\n",
    "X_test = df_test_featured[features_columns]\n",
    "Y_test = df_test_featured[target_columns] \n",
    "\n",
    "X_train_full = df_train_full_featured[features_columns]\n",
    "Y_train_full = df_train_full_featured[target_columns]\n"
   ]
  },
  {
   "cell_type": "code",
   "execution_count": 7,
   "metadata": {},
   "outputs": [
    {
     "name": "stdout",
     "output_type": "stream",
     "text": [
      "DT Depth: 5, Validation R2 Score: 0.26538253618095753\n",
      "DT Depth: 10, Validation R2 Score: 0.08295584882213883\n",
      "DT Depth: 15, Validation R2 Score: 0.11154339410096252\n",
      "DT Depth: 20, Validation R2 Score: 0.1346774941359266\n",
      "DT Depth: 25, Validation R2 Score: 0.1346774941359266\n",
      "DT Depth: 30, Validation R2 Score: 0.1346774941359266\n",
      "Best DT Depth: 5, Best Validation R2 Score: 0.26538253618095753\n"
     ]
    }
   ],
   "source": [
    "from sklearn.tree import DecisionTreeRegressor\n",
    "from sklearn.metrics import r2_score, mean_absolute_percentage_error\n",
    "\n",
    "#Decision Tree\n",
    "list_depth_dt = [i * 5 for i in range(1, 7)]\n",
    "best_r2_score_dt = -float('inf')\n",
    "best_depth_dt = None\n",
    "best_model_dt_val = None \n",
    "\n",
    "for depth in list_depth_dt:\n",
    "    model_dt = DecisionTreeRegressor(max_depth=depth, random_state=42)\n",
    "    model_dt.fit(X_train, Y_train)\n",
    "    Y_pred_valid_dt = model_dt.predict(X_valid)\n",
    "    current_r2_score_dt = r2_score(Y_valid, Y_pred_valid_dt)\n",
    "    print(f\"DT Depth: {depth}, Validation R2 Score: {current_r2_score_dt}\")\n",
    "    if current_r2_score_dt > best_r2_score_dt:\n",
    "        best_r2_score_dt = current_r2_score_dt\n",
    "        best_depth_dt = depth\n",
    "        best_model_dt_val = model_dt\n",
    "\n",
    "print(f\"Best DT Depth: {best_depth_dt}, Best Validation R2 Score: {best_r2_score_dt}\")"
   ]
  },
  {
   "cell_type": "code",
   "execution_count": 8,
   "metadata": {},
   "outputs": [
    {
     "name": "stdout",
     "output_type": "stream",
     "text": [
      "R2 Score: 0.5992072764228455\n",
      "MAPE: 0.13441535066950847\n"
     ]
    }
   ],
   "source": [
    "import numpy as np\n",
    "final_model_dt = DecisionTreeRegressor(max_depth=best_depth_dt, random_state=42)\n",
    "# Retrain on full training data\n",
    "final_model_dt.fit(X_train_full, Y_train_full)\n",
    "    \n",
    "Y_pred_test_dt_scaled = final_model_dt.predict(X_test)\n",
    "    \n",
    "r2_test_dt = r2_score(Y_test, Y_pred_test_dt_scaled) # Y_test is scaled\n",
    "    \n",
    "# Inverse transform for MAPE\n",
    "Y_pred_test_dt_orig = scaler_for_full_train.inverse_transform(Y_pred_test_dt_scaled)\n",
    "Y_test_orig = scaler_for_full_train.inverse_transform(Y_test)\n",
    "try:\n",
    "    mape_test_dt = mean_absolute_percentage_error(Y_test_orig, Y_pred_test_dt_orig)\n",
    "except ValueError as e: \n",
    "    epsilon = 1e-8 # avoid division by zero\n",
    "    mape_test_dt = np.mean(np.abs((Y_test_orig - Y_pred_test_dt_orig) / (np.abs(Y_test_orig) + epsilon)))\n",
    "\n",
    "print(f\"R2 Score: {r2_test_dt}\")\n",
    "print(f\"MAPE: {mape_test_dt}\")"
   ]
  },
  {
   "cell_type": "code",
   "execution_count": 9,
   "metadata": {},
   "outputs": [
    {
     "name": "stdout",
     "output_type": "stream",
     "text": [
      "RF Depth: 5, Validation R2 Score: 0.3990696665479205\n",
      "RF Depth: 10, Validation R2 Score: 0.3421667262430993\n",
      "RF Depth: 15, Validation R2 Score: 0.3203966636913713\n",
      "RF Depth: 20, Validation R2 Score: 0.33860775526566\n",
      "RF Depth: 25, Validation R2 Score: 0.33860775526566\n",
      "RF Depth: 30, Validation R2 Score: 0.33860775526566006\n",
      "Best RF Depth: 5, Best Validation R2 Score: 0.3990696665479205\n"
     ]
    }
   ],
   "source": [
    "from sklearn.ensemble import RandomForestRegressor\n",
    "#Random Forest\n",
    "list_depth_rf = [i * 5 for i in range(1, 7)]\n",
    "best_r2_score_rf = -float('inf')\n",
    "best_depth_rf = None\n",
    "best_model_rf_val = None\n",
    "\n",
    "for depth in list_depth_rf:\n",
    "    model_rf = RandomForestRegressor(max_depth=depth, n_estimators=100, random_state=42, n_jobs=-1)\n",
    "    model_rf.fit(X_train, Y_train)\n",
    "    Y_pred_valid_rf = model_rf.predict(X_valid)\n",
    "    current_r2_score_rf = r2_score(Y_valid, Y_pred_valid_rf)\n",
    "    print(f\"RF Depth: {depth}, Validation R2 Score: {current_r2_score_rf}\")\n",
    "    if current_r2_score_rf > best_r2_score_rf:\n",
    "        best_r2_score_rf = current_r2_score_rf\n",
    "        best_depth_rf = depth\n",
    "        best_model_rf_val = model_rf\n",
    "\n",
    "print(f\"Best RF Depth: {best_depth_rf}, Best Validation R2 Score: {best_r2_score_rf}\")"
   ]
  },
  {
   "cell_type": "code",
   "execution_count": 10,
   "metadata": {},
   "outputs": [
    {
     "name": "stdout",
     "output_type": "stream",
     "text": [
      "R2 Score: 0.7494479782452395\n",
      "MAPE: 0.10685065752598308\n"
     ]
    }
   ],
   "source": [
    "final_model_rf = RandomForestRegressor(max_depth=best_depth_rf, n_estimators=100, random_state=42, n_jobs=-1)\n",
    "# Retrain on full training data\n",
    "final_model_rf.fit(X_train_full, Y_train_full)\n",
    "\n",
    "Y_pred_test_rf_scaled = final_model_rf.predict(X_test)\n",
    "\n",
    "r2_test_rf = r2_score(Y_test, Y_pred_test_rf_scaled)\n",
    "\n",
    "# Inverse transform for MAPE\n",
    "Y_pred_test_rf_orig = scaler_for_full_train.inverse_transform(Y_pred_test_rf_scaled)\n",
    "\n",
    "try:\n",
    "    mape_test_rf = mean_absolute_percentage_error(Y_test_orig, Y_pred_test_rf_orig)\n",
    "except ValueError as e:\n",
    "    epsilon = 1e-8\n",
    "    mape_test_rf = np.mean(np.abs((Y_test_orig - Y_pred_test_rf_orig) / (np.abs(Y_test_orig) + epsilon)))\n",
    "    \n",
    "print(f\"R2 Score: {r2_test_rf}\")\n",
    "print(f\"MAPE: {mape_test_rf}\")"
   ]
  }
 ],
 "metadata": {
  "kernelspec": {
   "display_name": ".env",
   "language": "python",
   "name": "python3"
  },
  "language_info": {
   "codemirror_mode": {
    "name": "ipython",
    "version": 3
   },
   "file_extension": ".py",
   "mimetype": "text/x-python",
   "name": "python",
   "nbconvert_exporter": "python",
   "pygments_lexer": "ipython3",
   "version": "3.12.3"
  }
 },
 "nbformat": 4,
 "nbformat_minor": 2
}
