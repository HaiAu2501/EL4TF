{
 "cells": [
  {
   "cell_type": "code",
   "execution_count": 2,
   "metadata": {},
   "outputs": [
    {
     "name": "stdout",
     "output_type": "stream",
     "text": [
      "<class 'pandas.core.frame.DataFrame'>\n",
      "RangeIndex: 1353 entries, 0 to 1352\n",
      "Data columns (total 7 columns):\n",
      " #   Column     Non-Null Count  Dtype  \n",
      "---  ------     --------------  -----  \n",
      " 0   Date       1353 non-null   object \n",
      " 1   Open       1353 non-null   float64\n",
      " 2   High       1353 non-null   float64\n",
      " 3   Low        1353 non-null   float64\n",
      " 4   Close      1353 non-null   float64\n",
      " 5   Volume     1353 non-null   int64  \n",
      " 6   Adj Close  1353 non-null   float64\n",
      "dtypes: float64(5), int64(1), object(1)\n",
      "memory usage: 74.1+ KB\n"
     ]
    }
   ],
   "source": [
    "import pandas as pd\n",
    "\n",
    "df_train_origin = pd.read_csv('../data/tesla/train.csv')\n",
    "df_test = pd.read_csv('../data/tesla/test.csv')\n",
    "\n",
    "df_train_origin.info()"
   ]
  },
  {
   "cell_type": "code",
   "execution_count": 3,
   "metadata": {},
   "outputs": [
    {
     "data": {
      "text/html": [
       "<div>\n",
       "<style scoped>\n",
       "    .dataframe tbody tr th:only-of-type {\n",
       "        vertical-align: middle;\n",
       "    }\n",
       "\n",
       "    .dataframe tbody tr th {\n",
       "        vertical-align: top;\n",
       "    }\n",
       "\n",
       "    .dataframe thead th {\n",
       "        text-align: right;\n",
       "    }\n",
       "</style>\n",
       "<table border=\"1\" class=\"dataframe\">\n",
       "  <thead>\n",
       "    <tr style=\"text-align: right;\">\n",
       "      <th></th>\n",
       "      <th>Date</th>\n",
       "      <th>Open</th>\n",
       "      <th>High</th>\n",
       "      <th>Low</th>\n",
       "      <th>Close</th>\n",
       "      <th>Volume</th>\n",
       "      <th>Adj Close</th>\n",
       "    </tr>\n",
       "  </thead>\n",
       "  <tbody>\n",
       "    <tr>\n",
       "      <th>0</th>\n",
       "      <td>2010-06-29</td>\n",
       "      <td>19.000000</td>\n",
       "      <td>25.000000</td>\n",
       "      <td>17.540001</td>\n",
       "      <td>23.889999</td>\n",
       "      <td>18766300</td>\n",
       "      <td>23.889999</td>\n",
       "    </tr>\n",
       "    <tr>\n",
       "      <th>1</th>\n",
       "      <td>2010-06-30</td>\n",
       "      <td>25.790001</td>\n",
       "      <td>30.420000</td>\n",
       "      <td>23.299999</td>\n",
       "      <td>23.830000</td>\n",
       "      <td>17187100</td>\n",
       "      <td>23.830000</td>\n",
       "    </tr>\n",
       "    <tr>\n",
       "      <th>2</th>\n",
       "      <td>2010-07-01</td>\n",
       "      <td>25.000000</td>\n",
       "      <td>25.920000</td>\n",
       "      <td>20.270000</td>\n",
       "      <td>21.959999</td>\n",
       "      <td>8218800</td>\n",
       "      <td>21.959999</td>\n",
       "    </tr>\n",
       "    <tr>\n",
       "      <th>3</th>\n",
       "      <td>2010-07-02</td>\n",
       "      <td>23.000000</td>\n",
       "      <td>23.100000</td>\n",
       "      <td>18.709999</td>\n",
       "      <td>19.200001</td>\n",
       "      <td>5139800</td>\n",
       "      <td>19.200001</td>\n",
       "    </tr>\n",
       "    <tr>\n",
       "      <th>4</th>\n",
       "      <td>2010-07-06</td>\n",
       "      <td>20.000000</td>\n",
       "      <td>20.000000</td>\n",
       "      <td>15.830000</td>\n",
       "      <td>16.110001</td>\n",
       "      <td>6866900</td>\n",
       "      <td>16.110001</td>\n",
       "    </tr>\n",
       "    <tr>\n",
       "      <th>...</th>\n",
       "      <td>...</td>\n",
       "      <td>...</td>\n",
       "      <td>...</td>\n",
       "      <td>...</td>\n",
       "      <td>...</td>\n",
       "      <td>...</td>\n",
       "      <td>...</td>\n",
       "    </tr>\n",
       "    <tr>\n",
       "      <th>1077</th>\n",
       "      <td>2014-10-08</td>\n",
       "      <td>260.100006</td>\n",
       "      <td>262.880005</td>\n",
       "      <td>252.639999</td>\n",
       "      <td>259.279999</td>\n",
       "      <td>5055100</td>\n",
       "      <td>259.279999</td>\n",
       "    </tr>\n",
       "    <tr>\n",
       "      <th>1078</th>\n",
       "      <td>2014-10-09</td>\n",
       "      <td>262.250000</td>\n",
       "      <td>265.540009</td>\n",
       "      <td>254.399994</td>\n",
       "      <td>257.010010</td>\n",
       "      <td>7361300</td>\n",
       "      <td>257.010010</td>\n",
       "    </tr>\n",
       "    <tr>\n",
       "      <th>1079</th>\n",
       "      <td>2014-10-10</td>\n",
       "      <td>244.639999</td>\n",
       "      <td>245.889999</td>\n",
       "      <td>235.199997</td>\n",
       "      <td>236.910004</td>\n",
       "      <td>12888300</td>\n",
       "      <td>236.910004</td>\n",
       "    </tr>\n",
       "    <tr>\n",
       "      <th>1080</th>\n",
       "      <td>2014-10-13</td>\n",
       "      <td>238.570007</td>\n",
       "      <td>238.960007</td>\n",
       "      <td>221.000000</td>\n",
       "      <td>224.589996</td>\n",
       "      <td>11268700</td>\n",
       "      <td>224.589996</td>\n",
       "    </tr>\n",
       "    <tr>\n",
       "      <th>1081</th>\n",
       "      <td>2014-10-14</td>\n",
       "      <td>228.250000</td>\n",
       "      <td>232.470001</td>\n",
       "      <td>223.000000</td>\n",
       "      <td>227.059998</td>\n",
       "      <td>7105300</td>\n",
       "      <td>227.059998</td>\n",
       "    </tr>\n",
       "  </tbody>\n",
       "</table>\n",
       "<p>1082 rows × 7 columns</p>\n",
       "</div>"
      ],
      "text/plain": [
       "            Date        Open        High         Low       Close    Volume  \\\n",
       "0     2010-06-29   19.000000   25.000000   17.540001   23.889999  18766300   \n",
       "1     2010-06-30   25.790001   30.420000   23.299999   23.830000  17187100   \n",
       "2     2010-07-01   25.000000   25.920000   20.270000   21.959999   8218800   \n",
       "3     2010-07-02   23.000000   23.100000   18.709999   19.200001   5139800   \n",
       "4     2010-07-06   20.000000   20.000000   15.830000   16.110001   6866900   \n",
       "...          ...         ...         ...         ...         ...       ...   \n",
       "1077  2014-10-08  260.100006  262.880005  252.639999  259.279999   5055100   \n",
       "1078  2014-10-09  262.250000  265.540009  254.399994  257.010010   7361300   \n",
       "1079  2014-10-10  244.639999  245.889999  235.199997  236.910004  12888300   \n",
       "1080  2014-10-13  238.570007  238.960007  221.000000  224.589996  11268700   \n",
       "1081  2014-10-14  228.250000  232.470001  223.000000  227.059998   7105300   \n",
       "\n",
       "       Adj Close  \n",
       "0      23.889999  \n",
       "1      23.830000  \n",
       "2      21.959999  \n",
       "3      19.200001  \n",
       "4      16.110001  \n",
       "...          ...  \n",
       "1077  259.279999  \n",
       "1078  257.010010  \n",
       "1079  236.910004  \n",
       "1080  224.589996  \n",
       "1081  227.059998  \n",
       "\n",
       "[1082 rows x 7 columns]"
      ]
     },
     "execution_count": 3,
     "metadata": {},
     "output_type": "execute_result"
    }
   ],
   "source": [
    "n_train = int(len(df_train_origin)*0.8)\n",
    "df_train = df_train_origin.iloc[:n_train].copy()\n",
    "df_valid = df_train_origin.iloc[n_train:].copy()\n",
    "df_train"
   ]
  },
  {
   "cell_type": "code",
   "execution_count": 4,
   "metadata": {},
   "outputs": [
    {
     "data": {
      "text/plain": [
       "((1082, 18), (1082, 6))"
      ]
     },
     "execution_count": 4,
     "metadata": {},
     "output_type": "execute_result"
    }
   ],
   "source": [
    "df_train['Date'] = pd.to_datetime(df_train['Date'])\n",
    "\n",
    "target_columns = ['Open', 'High', 'Low', 'Close', 'Volume', 'Adj Close']\n",
    "features_columns = []\n",
    "\n",
    "for col in target_columns:\n",
    "    for i in range(1, 4):\n",
    "        df_train[f'{col}_lag_{i}'] = df_train[col].shift(i)\n",
    "        features_columns.append(f'{col}_lag_{i}')\n",
    "\n",
    "df_train.dropna()\n",
    "\n",
    "X_train = df_train[features_columns]\n",
    "Y_train = df_train[target_columns]\n",
    "\n",
    "X_train.shape, Y_train.shape"
   ]
  },
  {
   "cell_type": "code",
   "execution_count": 5,
   "metadata": {},
   "outputs": [
    {
     "data": {
      "text/plain": [
       "((271, 18), (271, 6))"
      ]
     },
     "execution_count": 5,
     "metadata": {},
     "output_type": "execute_result"
    }
   ],
   "source": [
    "df_valid['Date'] = pd.to_datetime(df_valid['Date'])\n",
    "\n",
    "target_columns = ['Open', 'High', 'Low', 'Close', 'Volume', 'Adj Close']\n",
    "features_columns = []\n",
    "\n",
    "for col in target_columns:\n",
    "    for i in range(1, 4):\n",
    "        df_valid[f'{col}_lag_{i}'] = df_valid[col].shift(i)\n",
    "        features_columns.append(f'{col}_lag_{i}')\n",
    "\n",
    "df_valid.dropna()\n",
    "\n",
    "X_valid = df_valid[features_columns]\n",
    "Y_valid = df_valid[target_columns]\n",
    "\n",
    "X_valid.shape, Y_valid.shape"
   ]
  },
  {
   "cell_type": "code",
   "execution_count": 7,
   "metadata": {},
   "outputs": [
    {
     "data": {
      "text/plain": [
       "((339, 18), (339, 6))"
      ]
     },
     "execution_count": 7,
     "metadata": {},
     "output_type": "execute_result"
    }
   ],
   "source": [
    "df_test['Date'] = pd.to_datetime(df_test['Date'])\n",
    "\n",
    "target_columns = ['Open', 'High', 'Low', 'Close', 'Volume', 'Adj Close']\n",
    "\n",
    "features_columns = []\n",
    "\n",
    "for col in target_columns:\n",
    "    for i in range(1, 4):\n",
    "        df_test[f'{col}_lag_{i}'] = df_test[col].shift(i)\n",
    "        features_columns.append(f'{col}_lag_{i}')\n",
    "\n",
    "df_test.dropna()\n",
    "\n",
    "X_test = df_test[features_columns]\n",
    "Y_test = df_test[target_columns]\n",
    "\n",
    "X_test.shape, Y_test.shape"
   ]
  },
  {
   "cell_type": "code",
   "execution_count": 10,
   "metadata": {},
   "outputs": [
    {
     "data": {
      "text/plain": [
       "((1353, 18), (1353, 6))"
      ]
     },
     "execution_count": 10,
     "metadata": {},
     "output_type": "execute_result"
    }
   ],
   "source": [
    "df_train_origin['Date'] = pd.to_datetime(df_train_origin['Date'])\n",
    "\n",
    "target_columns = ['Open', 'High', 'Low', 'Close', 'Volume', 'Adj Close']\n",
    "\n",
    "features_columns = []\n",
    "\n",
    "for col in target_columns:\n",
    "    for i in range(1, 4):\n",
    "        df_train_origin[f'{col}_lag_{i}'] = df_train_origin[col].shift(i)\n",
    "        features_columns.append(f'{col}_lag_{i}')\n",
    "\n",
    "df_train_origin.dropna()\n",
    "\n",
    "X_train_origin = df_train_origin[features_columns]\n",
    "Y_train_origin = df_train_origin[target_columns]\n",
    "X_train_origin.shape, Y_train_origin.shape"
   ]
  },
  {
   "cell_type": "code",
   "execution_count": null,
   "metadata": {},
   "outputs": [
    {
     "name": "stdout",
     "output_type": "stream",
     "text": [
      "Depth: 10, R2 Score: -0.14669766032639456\n",
      "Depth: 20, R2 Score: -0.5529970853808716\n",
      "Depth: 30, R2 Score: -0.055882965992024525\n",
      "Depth: 40, R2 Score: 0.0730460620504318\n",
      "Depth: 50, R2 Score: 0.010391590148558264\n",
      "Depth: 60, R2 Score: -0.09086548881675488\n",
      "Depth: 70, R2 Score: -0.042269281426296844\n",
      "Depth: 80, R2 Score: -0.4448027701740074\n",
      "Depth: 90, R2 Score: -0.36504242696865274\n",
      "Depth: 100, R2 Score: 0.1606806119584345\n",
      "Depth: 110, R2 Score: 0.19982715206786772\n",
      "Depth: 120, R2 Score: 0.15663539956625377\n",
      "Depth: 130, R2 Score: 0.19223338979465235\n",
      "Depth: 140, R2 Score: 0.20438912445341906\n",
      "Depth: 150, R2 Score: -0.19183684325646885\n",
      "Depth: 160, R2 Score: -0.11677668845310724\n",
      "Depth: 170, R2 Score: -0.3655102559955578\n",
      "Depth: 180, R2 Score: 0.12782284902708466\n",
      "Depth: 190, R2 Score: -0.2635134945414576\n",
      "Depth: 200, R2 Score: 0.15947082080091127\n",
      "Depth: 210, R2 Score: 0.05711622494392551\n",
      "Depth: 220, R2 Score: -0.6177529416108607\n",
      "Depth: 230, R2 Score: 0.1949118437292631\n",
      "Depth: 240, R2 Score: -0.4276285965217899\n",
      "Depth: 250, R2 Score: 0.022523829222839614\n",
      "Depth: 260, R2 Score: -0.303715227175512\n",
      "Depth: 270, R2 Score: 0.08909323268726428\n",
      "Depth: 280, R2 Score: 0.09385629266441144\n",
      "Depth: 290, R2 Score: 0.177090475165303\n",
      "Depth: 300, R2 Score: 0.10556144329357749\n",
      "Depth: 310, R2 Score: -0.03858646913688577\n",
      "Depth: 320, R2 Score: -0.38477610460324535\n",
      "Depth: 330, R2 Score: -0.4327426803697347\n",
      "Depth: 340, R2 Score: 0.12209609677077608\n",
      "Depth: 350, R2 Score: 0.15306999898357462\n",
      "Depth: 360, R2 Score: -0.4851382489765754\n",
      "Depth: 370, R2 Score: -0.49172302781568744\n",
      "Depth: 380, R2 Score: -1.066877316980842\n",
      "Depth: 390, R2 Score: 0.09080389668498194\n",
      "Depth: 400, R2 Score: -0.44301543054477294\n",
      "Depth: 410, R2 Score: -0.5883846093150304\n",
      "Depth: 420, R2 Score: 0.1295689826254868\n",
      "Depth: 430, R2 Score: -0.2850841313795618\n",
      "Depth: 440, R2 Score: -0.2962874158786365\n",
      "Depth: 450, R2 Score: -0.4864955203345584\n",
      "Depth: 460, R2 Score: 0.26880414998411395\n",
      "Depth: 470, R2 Score: -0.0364939999868746\n",
      "Depth: 480, R2 Score: -0.542984842177998\n",
      "Depth: 490, R2 Score: -0.013743487019402886\n",
      "Depth: 500, R2 Score: -0.30927086982773094\n"
     ]
    },
    {
     "data": {
      "text/plain": [
       "(460, 0.26880414998411395, DecisionTreeRegressor(max_depth=460))"
      ]
     },
     "execution_count": 6,
     "metadata": {},
     "output_type": "execute_result"
    }
   ],
   "source": [
    "from sklearn.tree import DecisionTreeRegressor\n",
    "from sklearn.metrics import r2_score, mean_absolute_percentage_error\n",
    "\n",
    "list_depth=[i*10 for i in range(1, 51)]\n",
    "best_r2_score = -float('inf')\n",
    "best_depth = None\n",
    "best_model = None\n",
    "\n",
    "for depth in list_depth:\n",
    "    model = DecisionTreeRegressor(max_depth=depth)\n",
    "    model.fit(X_train, Y_train)\n",
    "    Y_pred_valid = model.predict(X_valid)\n",
    "    current_r2_score = r2_score(Y_valid, Y_pred_valid)\n",
    "    print(f\"Depth: {depth}, R2 Score: {current_r2_score}\")\n",
    "    if current_r2_score > best_r2_score:\n",
    "        best_r2_score = current_r2_score\n",
    "        best_depth = depth\n",
    "        best_model = model\n",
    "\n",
    "best_depth, best_r2_score, best_model"
   ]
  },
  {
   "cell_type": "code",
   "execution_count": 11,
   "metadata": {},
   "outputs": [
    {
     "data": {
      "text/plain": [
       "(-0.31239823646327164, 0.13748505180106924)"
      ]
     },
     "execution_count": 11,
     "metadata": {},
     "output_type": "execute_result"
    }
   ],
   "source": [
    "model.fit(X_train_origin, Y_train_origin)\n",
    "Y_pred = model.predict(X_test)\n",
    "r2_score(Y_test, Y_pred), mean_absolute_percentage_error(Y_test, Y_pred)"
   ]
  },
  {
   "cell_type": "code",
   "execution_count": 14,
   "metadata": {},
   "outputs": [
    {
     "data": {
      "text/plain": [
       "(390, 0.6089081106114288, RandomForestRegressor(max_depth=390))"
      ]
     },
     "execution_count": 14,
     "metadata": {},
     "output_type": "execute_result"
    }
   ],
   "source": [
    "from sklearn.ensemble import RandomForestRegressor\n",
    "from sklearn.metrics import r2_score\n",
    "import matplotlib.pyplot as plt\n",
    "\n",
    "best_r2_score = -float('inf')\n",
    "best_depth = None\n",
    "best_model = None\n",
    "\n",
    "list_depth=[i*10 for i in range(1, 51)]\n",
    "for depth in list_depth:\n",
    "    model = RandomForestRegressor(max_depth=depth)\n",
    "    model.fit(X_train, Y_train)\n",
    "    Y_pred_valid = model.predict(X_valid)\n",
    "    current_r2_score = r2_score(Y_valid, Y_pred_valid)\n",
    "#nay de test thoy\n",
    "#    print(f\"Depth: {depth}, R2 Score: {current_r2_score}\")\n",
    "    if current_r2_score > best_r2_score:\n",
    "        best_r2_score = current_r2_score\n",
    "        best_depth = depth\n",
    "        best_model = model\n",
    "\n",
    "best_depth, best_r2_score, best_model"
   ]
  },
  {
   "cell_type": "code",
   "execution_count": 15,
   "metadata": {},
   "outputs": [
    {
     "data": {
      "text/plain": [
       "(0.5409222120273923, 0.09925462207350282)"
      ]
     },
     "execution_count": 15,
     "metadata": {},
     "output_type": "execute_result"
    }
   ],
   "source": [
    "model.fit(X_train_origin, Y_train_origin)\n",
    "Y_pred = model.predict(X_test)\n",
    "r2_score(Y_test, Y_pred), mean_absolute_percentage_error(Y_test, Y_pred)"
   ]
  }
 ],
 "metadata": {
  "kernelspec": {
   "display_name": ".env",
   "language": "python",
   "name": "python3"
  },
  "language_info": {
   "codemirror_mode": {
    "name": "ipython",
    "version": 3
   },
   "file_extension": ".py",
   "mimetype": "text/x-python",
   "name": "python",
   "nbconvert_exporter": "python",
   "pygments_lexer": "ipython3",
   "version": "3.12.3"
  }
 },
 "nbformat": 4,
 "nbformat_minor": 2
}
