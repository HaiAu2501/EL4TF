{
 "cells": [
  {
   "cell_type": "code",
   "execution_count": 1,
   "metadata": {},
   "outputs": [
    {
     "name": "stdout",
     "output_type": "stream",
     "text": [
      "         Date       Open   High        Low      Close    Volume  Adj Close\n",
      "0  2010-06-29  19.000000  25.00  17.540001  23.889999  18766300  23.889999\n",
      "1  2010-06-30  25.790001  30.42  23.299999  23.830000  17187100  23.830000\n",
      "2  2010-07-01  25.000000  25.92  20.270000  21.959999   8218800  21.959999\n",
      "3  2010-07-02  23.000000  23.10  18.709999  19.200001   5139800  19.200001\n",
      "4  2010-07-06  20.000000  20.00  15.830000  16.110001   6866900  16.110001\n",
      "         Date        Open        High         Low       Close   Volume  \\\n",
      "0  2015-11-11  217.770004  219.479996  213.630005  219.080002  3347800   \n",
      "1  2015-11-12  217.850006  219.000000  212.660004  212.940002  2915900   \n",
      "2  2015-11-13  212.949997  212.990005  206.520004  207.190002  3430300   \n",
      "3  2015-11-16  206.089996  214.979996  205.800003  214.309998  2925400   \n",
      "4  2015-11-17  215.199997  216.000000  211.399994  214.000000  2148700   \n",
      "\n",
      "    Adj Close  \n",
      "0  219.080002  \n",
      "1  212.940002  \n",
      "2  207.190002  \n",
      "3  214.309998  \n",
      "4  214.000000  \n"
     ]
    }
   ],
   "source": [
    "import pandas as pd\n",
    "\n",
    "df_train = pd.read_csv('../data/tesla/train.csv')\n",
    "df_test = pd.read_csv('../data/tesla/test.csv')\n",
    "\n",
    "print(df_train.head())\n",
    "print(df_test.head())"
   ]
  },
  {
   "cell_type": "code",
   "execution_count": null,
   "metadata": {},
   "outputs": [
    {
     "name": "stdout",
     "output_type": "stream",
     "text": [
      "0.024589317138785188\n",
      "RSS trên tập train: 8440.11\n",
      "4965.11\n"
     ]
    }
   ],
   "source": [
    "from sklearn import tree\n",
    "import matplotlib.pyplot as plt\n",
    "from sklearn.tree import plot_tree\n",
    "from sklearn.metrics import mean_absolute_percentage_error\n",
    "features = ['Open', 'High', 'Low', 'Volume']\n",
    "target = 'Adj Close'\n",
    "\n",
    "X_train = df_train[features]\n",
    "y_train = df_train[target]\n",
    "X_test = df_test[features]\n",
    "y_test = df_test[target]\n",
    "\n",
    "model = tree.DecisionTreeRegressor(criterion='squared_error', max_depth=5)\n",
    "model.fit(X_train, y_train)\n",
    "\n",
    "y_train_pred = model.predict(X_train)\n",
    "train_rss = ((y_train - y_train_pred) ** 2).sum()\n",
    "print(f\"{mean_absolute_percentage_error(y_train, y_train_pred)}\")\n"
   ]
  }
 ],
 "metadata": {
  "kernelspec": {
   "display_name": ".env",
   "language": "python",
   "name": "python3"
  },
  "language_info": {
   "codemirror_mode": {
    "name": "ipython",
    "version": 3
   },
   "file_extension": ".py",
   "mimetype": "text/x-python",
   "name": "python",
   "nbconvert_exporter": "python",
   "pygments_lexer": "ipython3",
   "version": "3.12.3"
  }
 },
 "nbformat": 4,
 "nbformat_minor": 2
}
