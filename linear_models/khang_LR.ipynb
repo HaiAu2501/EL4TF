{
 "cells": [
  {
   "cell_type": "code",
   "execution_count": 59,
   "metadata": {},
   "outputs": [
    {
     "name": "stdout",
     "output_type": "stream",
     "text": [
      "Requirement already satisfied: pandas in c:\\users\\khang\\anaconda3\\envs\\trash_env\\lib\\site-packages (2.2.3)\n",
      "Requirement already satisfied: numpy>=1.26.0 in c:\\users\\khang\\anaconda3\\envs\\trash_env\\lib\\site-packages (from pandas) (2.1.3)\n",
      "Requirement already satisfied: python-dateutil>=2.8.2 in c:\\users\\khang\\appdata\\roaming\\python\\python312\\site-packages (from pandas) (2.9.0.post0)\n",
      "Requirement already satisfied: pytz>=2020.1 in c:\\users\\khang\\anaconda3\\envs\\trash_env\\lib\\site-packages (from pandas) (2025.2)\n",
      "Requirement already satisfied: tzdata>=2022.7 in c:\\users\\khang\\anaconda3\\envs\\trash_env\\lib\\site-packages (from pandas) (2025.2)\n",
      "Requirement already satisfied: six>=1.5 in c:\\users\\khang\\appdata\\roaming\\python\\python312\\site-packages (from python-dateutil>=2.8.2->pandas) (1.17.0)\n",
      "Note: you may need to restart the kernel to use updated packages.\n"
     ]
    }
   ],
   "source": [
    "%pip install pandas"
   ]
  },
  {
   "cell_type": "markdown",
   "metadata": {},
   "source": [
    "### 1. Load data"
   ]
  },
  {
   "cell_type": "code",
   "execution_count": 60,
   "metadata": {},
   "outputs": [],
   "source": [
    "import pandas as pd\n",
    "train_df = pd.read_csv('../data/vn30/ACB_train.csv')\n",
    "train_df.head(10)\n",
    "train_df.drop(['time'], axis=1, inplace=True)"
   ]
  },
  {
   "cell_type": "markdown",
   "metadata": {},
   "source": [
    "### 2. Proces Data"
   ]
  },
  {
   "cell_type": "code",
   "execution_count": 61,
   "metadata": {},
   "outputs": [],
   "source": [
    "train_df_1 = train_df\n",
    "# # Tính ma trận tương quan\n",
    "# cor_df = train_df.drop(['Date'], axis=1)\n",
    "# correlation_matrix = cor_df.corr()\n",
    "\n",
    "# # Hiển thị ma trận tương quan\n",
    "# print(correlation_matrix)"
   ]
  },
  {
   "cell_type": "code",
   "execution_count": 62,
   "metadata": {},
   "outputs": [
    {
     "name": "stdout",
     "output_type": "stream",
     "text": [
      "(1240, 45)\n"
     ]
    },
    {
     "data": {
      "text/html": [
       "<div>\n",
       "<style scoped>\n",
       "    .dataframe tbody tr th:only-of-type {\n",
       "        vertical-align: middle;\n",
       "    }\n",
       "\n",
       "    .dataframe tbody tr th {\n",
       "        vertical-align: top;\n",
       "    }\n",
       "\n",
       "    .dataframe thead th {\n",
       "        text-align: right;\n",
       "    }\n",
       "</style>\n",
       "<table border=\"1\" class=\"dataframe\">\n",
       "  <thead>\n",
       "    <tr style=\"text-align: right;\">\n",
       "      <th></th>\n",
       "      <th>open</th>\n",
       "      <th>high</th>\n",
       "      <th>low</th>\n",
       "      <th>close</th>\n",
       "      <th>volume</th>\n",
       "      <th>open_lag_1</th>\n",
       "      <th>open_lag_2</th>\n",
       "      <th>open_lag_3</th>\n",
       "      <th>open_lag_4</th>\n",
       "      <th>open_lag_5</th>\n",
       "      <th>...</th>\n",
       "      <th>close_max</th>\n",
       "      <th>close_min</th>\n",
       "      <th>volume_lag_1</th>\n",
       "      <th>volume_lag_2</th>\n",
       "      <th>volume_lag_3</th>\n",
       "      <th>volume_lag_4</th>\n",
       "      <th>volume_lag_5</th>\n",
       "      <th>volume_mean</th>\n",
       "      <th>volume_max</th>\n",
       "      <th>volume_min</th>\n",
       "    </tr>\n",
       "  </thead>\n",
       "  <tbody>\n",
       "    <tr>\n",
       "      <th>5</th>\n",
       "      <td>7.60</td>\n",
       "      <td>7.73</td>\n",
       "      <td>7.57</td>\n",
       "      <td>7.71</td>\n",
       "      <td>2196358</td>\n",
       "      <td>8.34</td>\n",
       "      <td>7.68</td>\n",
       "      <td>7.44</td>\n",
       "      <td>6.99</td>\n",
       "      <td>7.86</td>\n",
       "      <td>...</td>\n",
       "      <td>7.76</td>\n",
       "      <td>7.47</td>\n",
       "      <td>846226.0</td>\n",
       "      <td>1305819.0</td>\n",
       "      <td>2771983.0</td>\n",
       "      <td>1956382.0</td>\n",
       "      <td>1103106.0</td>\n",
       "      <td>1596703.2</td>\n",
       "      <td>2771983.0</td>\n",
       "      <td>846226.0</td>\n",
       "    </tr>\n",
       "    <tr>\n",
       "      <th>6</th>\n",
       "      <td>7.71</td>\n",
       "      <td>7.73</td>\n",
       "      <td>7.68</td>\n",
       "      <td>7.68</td>\n",
       "      <td>1378687</td>\n",
       "      <td>7.60</td>\n",
       "      <td>8.34</td>\n",
       "      <td>7.68</td>\n",
       "      <td>7.44</td>\n",
       "      <td>6.99</td>\n",
       "      <td>...</td>\n",
       "      <td>7.71</td>\n",
       "      <td>7.47</td>\n",
       "      <td>2196358.0</td>\n",
       "      <td>846226.0</td>\n",
       "      <td>1305819.0</td>\n",
       "      <td>2771983.0</td>\n",
       "      <td>1956382.0</td>\n",
       "      <td>1815353.6</td>\n",
       "      <td>2771983.0</td>\n",
       "      <td>846226.0</td>\n",
       "    </tr>\n",
       "    <tr>\n",
       "      <th>7</th>\n",
       "      <td>7.71</td>\n",
       "      <td>7.73</td>\n",
       "      <td>7.65</td>\n",
       "      <td>7.68</td>\n",
       "      <td>1250077</td>\n",
       "      <td>7.71</td>\n",
       "      <td>7.60</td>\n",
       "      <td>8.34</td>\n",
       "      <td>7.68</td>\n",
       "      <td>7.44</td>\n",
       "      <td>...</td>\n",
       "      <td>7.71</td>\n",
       "      <td>7.52</td>\n",
       "      <td>1378687.0</td>\n",
       "      <td>2196358.0</td>\n",
       "      <td>846226.0</td>\n",
       "      <td>1305819.0</td>\n",
       "      <td>2771983.0</td>\n",
       "      <td>1699814.6</td>\n",
       "      <td>2771983.0</td>\n",
       "      <td>846226.0</td>\n",
       "    </tr>\n",
       "    <tr>\n",
       "      <th>8</th>\n",
       "      <td>7.65</td>\n",
       "      <td>7.68</td>\n",
       "      <td>7.63</td>\n",
       "      <td>7.63</td>\n",
       "      <td>937155</td>\n",
       "      <td>7.71</td>\n",
       "      <td>7.71</td>\n",
       "      <td>7.60</td>\n",
       "      <td>8.34</td>\n",
       "      <td>7.68</td>\n",
       "      <td>...</td>\n",
       "      <td>7.71</td>\n",
       "      <td>7.57</td>\n",
       "      <td>1250077.0</td>\n",
       "      <td>1378687.0</td>\n",
       "      <td>2196358.0</td>\n",
       "      <td>846226.0</td>\n",
       "      <td>1305819.0</td>\n",
       "      <td>1395433.4</td>\n",
       "      <td>2196358.0</td>\n",
       "      <td>846226.0</td>\n",
       "    </tr>\n",
       "    <tr>\n",
       "      <th>9</th>\n",
       "      <td>7.49</td>\n",
       "      <td>7.73</td>\n",
       "      <td>7.04</td>\n",
       "      <td>7.73</td>\n",
       "      <td>901146</td>\n",
       "      <td>7.65</td>\n",
       "      <td>7.71</td>\n",
       "      <td>7.71</td>\n",
       "      <td>7.60</td>\n",
       "      <td>8.34</td>\n",
       "      <td>...</td>\n",
       "      <td>7.71</td>\n",
       "      <td>7.57</td>\n",
       "      <td>937155.0</td>\n",
       "      <td>1250077.0</td>\n",
       "      <td>1378687.0</td>\n",
       "      <td>2196358.0</td>\n",
       "      <td>846226.0</td>\n",
       "      <td>1321700.6</td>\n",
       "      <td>2196358.0</td>\n",
       "      <td>846226.0</td>\n",
       "    </tr>\n",
       "  </tbody>\n",
       "</table>\n",
       "<p>5 rows × 45 columns</p>\n",
       "</div>"
      ],
      "text/plain": [
       "   open  high   low  close   volume  open_lag_1  open_lag_2  open_lag_3  \\\n",
       "5  7.60  7.73  7.57   7.71  2196358        8.34        7.68        7.44   \n",
       "6  7.71  7.73  7.68   7.68  1378687        7.60        8.34        7.68   \n",
       "7  7.71  7.73  7.65   7.68  1250077        7.71        7.60        8.34   \n",
       "8  7.65  7.68  7.63   7.63   937155        7.71        7.71        7.60   \n",
       "9  7.49  7.73  7.04   7.73   901146        7.65        7.71        7.71   \n",
       "\n",
       "   open_lag_4  open_lag_5  ...  close_max  close_min  volume_lag_1  \\\n",
       "5        6.99        7.86  ...       7.76       7.47      846226.0   \n",
       "6        7.44        6.99  ...       7.71       7.47     2196358.0   \n",
       "7        7.68        7.44  ...       7.71       7.52     1378687.0   \n",
       "8        8.34        7.68  ...       7.71       7.57     1250077.0   \n",
       "9        7.60        8.34  ...       7.71       7.57      937155.0   \n",
       "\n",
       "   volume_lag_2  volume_lag_3  volume_lag_4  volume_lag_5  volume_mean  \\\n",
       "5     1305819.0     2771983.0     1956382.0     1103106.0    1596703.2   \n",
       "6      846226.0     1305819.0     2771983.0     1956382.0    1815353.6   \n",
       "7     2196358.0      846226.0     1305819.0     2771983.0    1699814.6   \n",
       "8     1378687.0     2196358.0      846226.0     1305819.0    1395433.4   \n",
       "9     1250077.0     1378687.0     2196358.0      846226.0    1321700.6   \n",
       "\n",
       "   volume_max  volume_min  \n",
       "5   2771983.0    846226.0  \n",
       "6   2771983.0    846226.0  \n",
       "7   2771983.0    846226.0  \n",
       "8   2196358.0    846226.0  \n",
       "9   2196358.0    846226.0  \n",
       "\n",
       "[5 rows x 45 columns]"
      ]
     },
     "execution_count": 62,
     "metadata": {},
     "output_type": "execute_result"
    }
   ],
   "source": [
    "def lag_transform_df(df: pd.DataFrame, lag: int):\n",
    "    df_lag = df.copy()\n",
    "    for col in df_lag.columns:\n",
    "        for i in range(1, lag + 1):\n",
    "            df_lag[f'{col}_lag_{i}'] = df_lag[col].shift(i)\n",
    "        lag_cols = [f'{col}_lag_{i}' for i in range(1, lag + 1)]\n",
    "        df_lag[f'{col}_mean'] = df_lag[lag_cols].mean(axis=1)\n",
    "        df_lag[f'{col}_max'] = df_lag[lag_cols].max(axis=1)\n",
    "        df_lag[f'{col}_min'] = df_lag[lag_cols].min(axis=1)\n",
    "    return df_lag.dropna()\n",
    "\n",
    "df_lag = lag_transform_df(train_df_1, 5)\n",
    "print(df_lag.shape)\n",
    "df_lag.head()"
   ]
  },
  {
   "cell_type": "markdown",
   "metadata": {},
   "source": [
    "Shuffle and train test split"
   ]
  },
  {
   "cell_type": "code",
   "execution_count": 63,
   "metadata": {},
   "outputs": [
    {
     "name": "stdout",
     "output_type": "stream",
     "text": [
      "Index(['open', 'high', 'low', 'close', 'volume'], dtype='object')\n"
     ]
    }
   ],
   "source": [
    "print(train_df.columns)"
   ]
  },
  {
   "cell_type": "code",
   "execution_count": 64,
   "metadata": {},
   "outputs": [
    {
     "name": "stdout",
     "output_type": "stream",
     "text": [
      "(1240, 40)\n",
      "(1240, 5)\n"
     ]
    }
   ],
   "source": [
    "Y = df_lag[train_df.columns].values\n",
    "X = df_lag.drop(train_df.columns, axis=1).values\n",
    "print(X.shape)\n",
    "print(Y.shape)"
   ]
  },
  {
   "cell_type": "markdown",
   "metadata": {},
   "source": [
    "Shuffle and train test split"
   ]
  },
  {
   "cell_type": "code",
   "execution_count": 65,
   "metadata": {},
   "outputs": [
    {
     "name": "stdout",
     "output_type": "stream",
     "text": [
      "(992, 40)\n",
      "(248, 40)\n",
      "(992, 5)\n",
      "(248, 5)\n"
     ]
    }
   ],
   "source": [
    "from sklearn.model_selection import train_test_split\n",
    "X_train, X_test, Y_train, Y_test = train_test_split(X, Y, test_size=0.2, shuffle=False)\n",
    "\n",
    "print(X_train.shape)\n",
    "print(X_test.shape)\n",
    "print(Y_train.shape)\n",
    "print(Y_test.shape)\n",
    "\n",
    "\n",
    "\n",
    "\n"
   ]
  },
  {
   "cell_type": "code",
   "execution_count": 66,
   "metadata": {},
   "outputs": [
    {
     "name": "stdout",
     "output_type": "stream",
     "text": [
      "Mean Squared Error: 2692915347858.793\n",
      "Mean Absolute Percentage Error: 0.09441464272679166\n",
      "R2 Score: 0.8396260270381312\n"
     ]
    }
   ],
   "source": [
    "from sklearn.linear_model import LinearRegression\n",
    "from sklearn.metrics import mean_squared_error, mean_absolute_percentage_error, r2_score\n",
    "\n",
    "model = LinearRegression()\n",
    "model.fit(X_train, Y_train)\n",
    "\n",
    "mse = mean_squared_error(Y_test, model.predict(X_test))\n",
    "print(f\"Mean Squared Error: {mse}\")\n",
    "\n",
    "mape = mean_absolute_percentage_error(Y_test, model.predict(X_test))\n",
    "print(f\"Mean Absolute Percentage Error: {mape}\")\n",
    "\n",
    "r2 = r2_score(Y_test, model.predict(X_test))\n",
    "print(f\"R2 Score: {r2}\")\n",
    "\n",
    "\n",
    "\n"
   ]
  }
 ],
 "metadata": {
  "kernelspec": {
   "display_name": "trash_env",
   "language": "python",
   "name": "python3"
  },
  "language_info": {
   "codemirror_mode": {
    "name": "ipython",
    "version": 3
   },
   "file_extension": ".py",
   "mimetype": "text/x-python",
   "name": "python",
   "nbconvert_exporter": "python",
   "pygments_lexer": "ipython3",
   "version": "3.12.10"
  }
 },
 "nbformat": 4,
 "nbformat_minor": 2
}
