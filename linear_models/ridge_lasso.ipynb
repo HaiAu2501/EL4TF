{
 "cells": [
  {
   "cell_type": "code",
   "execution_count": 17,
   "id": "96a82429",
   "metadata": {},
   "outputs": [],
   "source": [
    "import pandas as pd\n",
    "import numpy as np\n",
    "from pandas import DataFrame\n",
    "from sklearn.preprocessing import StandardScaler"
   ]
  },
  {
   "cell_type": "code",
   "execution_count": 18,
   "id": "039c16d6",
   "metadata": {},
   "outputs": [],
   "source": [
    "def read_train_and_test(train: str, test: str) -> tuple[DataFrame, DataFrame]:\n",
    "  df_train = pd.read_csv(train)\n",
    "  df_train.drop(\"time\", axis=1, inplace=True)\n",
    "  df_test = pd.read_csv(test)\n",
    "  df_test.drop(\"time\", axis=1, inplace=True)\n",
    "  return (df_train, df_test)"
   ]
  },
  {
   "cell_type": "code",
   "execution_count": 19,
   "id": "85988d0e",
   "metadata": {},
   "outputs": [],
   "source": [
    "def add_lag_features(df: DataFrame, cols: list[str], lag: int) -> list[str]:\n",
    "  features: list[str] = []\n",
    "  for i in range(1, lag + 1):\n",
    "    for col in cols:\n",
    "      s = f\"{col}_lag_{i}\"\n",
    "      features.append(s)\n",
    "      df[s] = df[col].shift(i)\n",
    "  df.dropna(inplace=True)\n",
    "  return features"
   ]
  },
  {
   "cell_type": "code",
   "execution_count": 20,
   "id": "6918e0c2",
   "metadata": {},
   "outputs": [],
   "source": [
    "def preprocess(df_train: DataFrame, df_test: DataFrame, lag: int) -> tuple[DataFrame, DataFrame, DataFrame, DataFrame]:\n",
    "  if set(df_train.columns) != set(df_test.columns):\n",
    "    raise ValueError(\"columns set in two DataFrame is not equivalent\")\n",
    "  df_train = df_train.copy()\n",
    "  df_test = df_test.copy()\n",
    "  targets = df_train.columns\n",
    "  features = add_lag_features(df_train, targets, lag)\n",
    "  add_lag_features(df_test, targets, lag)\n",
    "  return (df_train[features], df_train[targets], df_test[features], df_test[targets])"
   ]
  },
  {
   "cell_type": "code",
   "execution_count": 21,
   "id": "fb5f0af1",
   "metadata": {},
   "outputs": [],
   "source": [
    "from sklearn.metrics import mean_absolute_percentage_error, root_mean_squared_error, r2_score\n",
    "\n",
    "def print_result(y_train, y_train_pred, y_test, y_test_pred):\n",
    "  print(\"Train R2-squared:\", r2_score(y_train, y_train_pred))\n",
    "  print(\"Test R2-square:\", r2_score(y_test, y_test_pred))\n",
    "  print(\"Train MAPE:\", mean_absolute_percentage_error(y_train, y_train_pred))\n",
    "  print(\"Test MAPE:\", mean_absolute_percentage_error(y_test, y_test_pred))\n",
    "  print(\"Train RMSE:\", root_mean_squared_error(y_train, y_train_pred))\n",
    "  print(\"Test RMSE:\", root_mean_squared_error(y_test, y_test_pred))"
   ]
  },
  {
   "cell_type": "code",
   "execution_count": 22,
   "id": "2314d58b",
   "metadata": {},
   "outputs": [],
   "source": [
    "def regression(*,\n",
    "  train_path: str,\n",
    "  test_path: str,\n",
    "  lag: int,\n",
    "  reg\n",
    "):\n",
    "  df_train, df_test = read_train_and_test(\n",
    "  train=train_path,\n",
    "  test=test_path,\n",
    "  )\n",
    "\n",
    "  X_train, y_train, X_test, y_test = preprocess(df_train, df_test, lag)\n",
    "\n",
    "  sc = StandardScaler()\n",
    "  X_train = sc.fit_transform(X_train)\n",
    "  X_test = sc.transform(X_test)\n",
    "\n",
    "  reg.fit(X_train, y_train)\n",
    "  y_train_pred = reg.predict(X_train)\n",
    "  y_test_pred = reg.predict(X_test)\n",
    "  print_result(y_train, y_train_pred, y_test, y_test_pred)"
   ]
  },
  {
   "cell_type": "code",
   "execution_count": 23,
   "id": "77ac0a79",
   "metadata": {},
   "outputs": [],
   "source": [
    "from sklearn.linear_model import RidgeCV\n",
    "\n",
    "path = \"../data/vn30/{}.csv\"\n",
    "train_path=path.format(\"ACB_train\")\n",
    "test_path=path.format(\"ACB_test\")"
   ]
  },
  {
   "cell_type": "code",
   "execution_count": 24,
   "id": "e7c6b0df",
   "metadata": {},
   "outputs": [
    {
     "name": "stdout",
     "output_type": "stream",
     "text": [
      "Train R2-squared: 0.8743932483869108\n",
      "Test R2-square: 0.8035795367879157\n",
      "Train MAPE: 0.09680869558355906\n",
      "Test MAPE: 0.10155832686548867\n",
      "Train RMSE: 695297.9713615039\n",
      "Test RMSE: 1234535.1280469391\n"
     ]
    }
   ],
   "source": [
    "reg = RidgeCV(alphas=np.logspace(-10, 10, 50))\n",
    "\n",
    "regression(train_path=train_path, test_path=test_path, lag=3, reg=reg)"
   ]
  },
  {
   "cell_type": "code",
   "execution_count": 25,
   "id": "200484ce",
   "metadata": {},
   "outputs": [
    {
     "name": "stdout",
     "output_type": "stream",
     "text": [
      "Train R2-squared: 0.8751950219861444\n",
      "Test R2-square: 0.8081804393287431\n",
      "Train MAPE: 0.0963741552958511\n",
      "Test MAPE: 0.10253191227936298\n",
      "Train RMSE: 693594.6356148357\n",
      "Test RMSE: 1225304.6993951239\n"
     ]
    }
   ],
   "source": [
    "from sklearn.linear_model import Lasso\n",
    "from sklearn.model_selection import GridSearchCV\n",
    "\n",
    "params = {\n",
    "  \"alpha\": np.logspace(-4, 1, 10)\n",
    "}\n",
    "\n",
    "reg = GridSearchCV(Lasso(max_iter=200000), param_grid=params)\n",
    "regression(train_path=train_path, test_path=test_path, lag=3, reg=reg)"
   ]
  }
 ],
 "metadata": {
  "kernelspec": {
   "display_name": "venv",
   "language": "python",
   "name": "python3"
  },
  "language_info": {
   "codemirror_mode": {
    "name": "ipython",
    "version": 3
   },
   "file_extension": ".py",
   "mimetype": "text/x-python",
   "name": "python",
   "nbconvert_exporter": "python",
   "pygments_lexer": "ipython3",
   "version": "3.10.12"
  }
 },
 "nbformat": 4,
 "nbformat_minor": 5
}
