{
 "cells": [
  {
   "cell_type": "markdown",
   "metadata": {},
   "source": [
    "Read the train data into a [`DataFrame`](https://pandas.pydata.org/docs/reference/api/pandas.DataFrame.html)."
   ]
  },
  {
   "cell_type": "code",
   "execution_count": 1,
   "metadata": {},
   "outputs": [
    {
     "data": {
      "text/html": [
       "<div>\n",
       "<style scoped>\n",
       "    .dataframe tbody tr th:only-of-type {\n",
       "        vertical-align: middle;\n",
       "    }\n",
       "\n",
       "    .dataframe tbody tr th {\n",
       "        vertical-align: top;\n",
       "    }\n",
       "\n",
       "    .dataframe thead th {\n",
       "        text-align: right;\n",
       "    }\n",
       "</style>\n",
       "<table border=\"1\" class=\"dataframe\">\n",
       "  <thead>\n",
       "    <tr style=\"text-align: right;\">\n",
       "      <th></th>\n",
       "      <th>Date</th>\n",
       "      <th>Open</th>\n",
       "      <th>High</th>\n",
       "      <th>Low</th>\n",
       "      <th>Close</th>\n",
       "      <th>Volume</th>\n",
       "      <th>Adj Close</th>\n",
       "    </tr>\n",
       "  </thead>\n",
       "  <tbody>\n",
       "    <tr>\n",
       "      <th>0</th>\n",
       "      <td>2010-06-29</td>\n",
       "      <td>19.000000</td>\n",
       "      <td>25.000000</td>\n",
       "      <td>17.540001</td>\n",
       "      <td>23.889999</td>\n",
       "      <td>18766300</td>\n",
       "      <td>23.889999</td>\n",
       "    </tr>\n",
       "    <tr>\n",
       "      <th>1</th>\n",
       "      <td>2010-06-30</td>\n",
       "      <td>25.790001</td>\n",
       "      <td>30.420000</td>\n",
       "      <td>23.299999</td>\n",
       "      <td>23.830000</td>\n",
       "      <td>17187100</td>\n",
       "      <td>23.830000</td>\n",
       "    </tr>\n",
       "    <tr>\n",
       "      <th>2</th>\n",
       "      <td>2010-07-01</td>\n",
       "      <td>25.000000</td>\n",
       "      <td>25.920000</td>\n",
       "      <td>20.270000</td>\n",
       "      <td>21.959999</td>\n",
       "      <td>8218800</td>\n",
       "      <td>21.959999</td>\n",
       "    </tr>\n",
       "    <tr>\n",
       "      <th>3</th>\n",
       "      <td>2010-07-02</td>\n",
       "      <td>23.000000</td>\n",
       "      <td>23.100000</td>\n",
       "      <td>18.709999</td>\n",
       "      <td>19.200001</td>\n",
       "      <td>5139800</td>\n",
       "      <td>19.200001</td>\n",
       "    </tr>\n",
       "    <tr>\n",
       "      <th>4</th>\n",
       "      <td>2010-07-06</td>\n",
       "      <td>20.000000</td>\n",
       "      <td>20.000000</td>\n",
       "      <td>15.830000</td>\n",
       "      <td>16.110001</td>\n",
       "      <td>6866900</td>\n",
       "      <td>16.110001</td>\n",
       "    </tr>\n",
       "    <tr>\n",
       "      <th>...</th>\n",
       "      <td>...</td>\n",
       "      <td>...</td>\n",
       "      <td>...</td>\n",
       "      <td>...</td>\n",
       "      <td>...</td>\n",
       "      <td>...</td>\n",
       "      <td>...</td>\n",
       "    </tr>\n",
       "    <tr>\n",
       "      <th>1348</th>\n",
       "      <td>2015-11-04</td>\n",
       "      <td>227.000000</td>\n",
       "      <td>232.740005</td>\n",
       "      <td>225.199997</td>\n",
       "      <td>231.630005</td>\n",
       "      <td>12726400</td>\n",
       "      <td>231.630005</td>\n",
       "    </tr>\n",
       "    <tr>\n",
       "      <th>1349</th>\n",
       "      <td>2015-11-05</td>\n",
       "      <td>230.580002</td>\n",
       "      <td>234.580002</td>\n",
       "      <td>229.190002</td>\n",
       "      <td>231.770004</td>\n",
       "      <td>4496800</td>\n",
       "      <td>231.770004</td>\n",
       "    </tr>\n",
       "    <tr>\n",
       "      <th>1350</th>\n",
       "      <td>2015-11-06</td>\n",
       "      <td>230.699997</td>\n",
       "      <td>233.360001</td>\n",
       "      <td>229.500000</td>\n",
       "      <td>232.360001</td>\n",
       "      <td>2445300</td>\n",
       "      <td>232.360001</td>\n",
       "    </tr>\n",
       "    <tr>\n",
       "      <th>1351</th>\n",
       "      <td>2015-11-09</td>\n",
       "      <td>232.990005</td>\n",
       "      <td>232.990005</td>\n",
       "      <td>224.309998</td>\n",
       "      <td>225.330002</td>\n",
       "      <td>3850900</td>\n",
       "      <td>225.330002</td>\n",
       "    </tr>\n",
       "    <tr>\n",
       "      <th>1352</th>\n",
       "      <td>2015-11-10</td>\n",
       "      <td>223.479996</td>\n",
       "      <td>223.699997</td>\n",
       "      <td>216.080002</td>\n",
       "      <td>216.500000</td>\n",
       "      <td>4617000</td>\n",
       "      <td>216.500000</td>\n",
       "    </tr>\n",
       "  </tbody>\n",
       "</table>\n",
       "<p>1353 rows × 7 columns</p>\n",
       "</div>"
      ],
      "text/plain": [
       "           Date        Open        High         Low       Close    Volume  \\\n",
       "0    2010-06-29   19.000000   25.000000   17.540001   23.889999  18766300   \n",
       "1    2010-06-30   25.790001   30.420000   23.299999   23.830000  17187100   \n",
       "2    2010-07-01   25.000000   25.920000   20.270000   21.959999   8218800   \n",
       "3    2010-07-02   23.000000   23.100000   18.709999   19.200001   5139800   \n",
       "4    2010-07-06   20.000000   20.000000   15.830000   16.110001   6866900   \n",
       "...         ...         ...         ...         ...         ...       ...   \n",
       "1348 2015-11-04  227.000000  232.740005  225.199997  231.630005  12726400   \n",
       "1349 2015-11-05  230.580002  234.580002  229.190002  231.770004   4496800   \n",
       "1350 2015-11-06  230.699997  233.360001  229.500000  232.360001   2445300   \n",
       "1351 2015-11-09  232.990005  232.990005  224.309998  225.330002   3850900   \n",
       "1352 2015-11-10  223.479996  223.699997  216.080002  216.500000   4617000   \n",
       "\n",
       "       Adj Close  \n",
       "0      23.889999  \n",
       "1      23.830000  \n",
       "2      21.959999  \n",
       "3      19.200001  \n",
       "4      16.110001  \n",
       "...          ...  \n",
       "1348  231.630005  \n",
       "1349  231.770004  \n",
       "1350  232.360001  \n",
       "1351  225.330002  \n",
       "1352  216.500000  \n",
       "\n",
       "[1353 rows x 7 columns]"
      ]
     },
     "execution_count": 1,
     "metadata": {},
     "output_type": "execute_result"
    }
   ],
   "source": [
    "import pandas\n",
    "\n",
    "\n",
    "table = pandas.read_csv(\"../data/tesla/train.csv\")\n",
    "table[\"Date\"] = pandas.to_datetime(table[\"Date\"])\n",
    "table"
   ]
  },
  {
   "cell_type": "markdown",
   "metadata": {},
   "source": [
    "Define a helper function to extract $k$ consecutive days (excluding weekends). We're going to use the data from $k - 1$ consecutive weekdays to predict the next one."
   ]
  },
  {
   "cell_type": "code",
   "execution_count": 2,
   "metadata": {},
   "outputs": [],
   "source": [
    "from collections import deque\n",
    "from datetime import timedelta\n",
    "from typing import Iterable\n",
    "\n",
    "\n",
    "def window(\n",
    "    table: pandas.DataFrame,\n",
    "    *,\n",
    "    k: int,\n",
    ") -> Iterable[pandas.DataFrame]:\n",
    "    queue = deque(maxlen=k)\n",
    "    for index, item in enumerate(table.itertuples()):\n",
    "        if len(queue) == k:\n",
    "            yield table[index - k:index]\n",
    "\n",
    "        temp = item.Date - timedelta(days=1)\n",
    "        while temp.weekday() in [5, 6]:\n",
    "            temp -= timedelta(days=1)\n",
    "\n",
    "        if len(queue) > 0 and temp != queue[-1].Date:\n",
    "            queue.clear()\n",
    "\n",
    "        queue.append(item)"
   ]
  },
  {
   "cell_type": "markdown",
   "metadata": {},
   "source": [
    "View the first input-output batch"
   ]
  },
  {
   "cell_type": "code",
   "execution_count": 3,
   "metadata": {},
   "outputs": [
    {
     "data": {
      "text/html": [
       "<div>\n",
       "<style scoped>\n",
       "    .dataframe tbody tr th:only-of-type {\n",
       "        vertical-align: middle;\n",
       "    }\n",
       "\n",
       "    .dataframe tbody tr th {\n",
       "        vertical-align: top;\n",
       "    }\n",
       "\n",
       "    .dataframe thead th {\n",
       "        text-align: right;\n",
       "    }\n",
       "</style>\n",
       "<table border=\"1\" class=\"dataframe\">\n",
       "  <thead>\n",
       "    <tr style=\"text-align: right;\">\n",
       "      <th></th>\n",
       "      <th>Date</th>\n",
       "      <th>Open</th>\n",
       "      <th>High</th>\n",
       "      <th>Low</th>\n",
       "      <th>Close</th>\n",
       "      <th>Volume</th>\n",
       "      <th>Adj Close</th>\n",
       "    </tr>\n",
       "  </thead>\n",
       "  <tbody>\n",
       "    <tr>\n",
       "      <th>4</th>\n",
       "      <td>2010-07-06</td>\n",
       "      <td>20.000000</td>\n",
       "      <td>20.000000</td>\n",
       "      <td>15.830000</td>\n",
       "      <td>16.110001</td>\n",
       "      <td>6866900</td>\n",
       "      <td>16.110001</td>\n",
       "    </tr>\n",
       "    <tr>\n",
       "      <th>5</th>\n",
       "      <td>2010-07-07</td>\n",
       "      <td>16.400000</td>\n",
       "      <td>16.629999</td>\n",
       "      <td>14.980000</td>\n",
       "      <td>15.800000</td>\n",
       "      <td>6921700</td>\n",
       "      <td>15.800000</td>\n",
       "    </tr>\n",
       "    <tr>\n",
       "      <th>6</th>\n",
       "      <td>2010-07-08</td>\n",
       "      <td>16.139999</td>\n",
       "      <td>17.520000</td>\n",
       "      <td>15.570000</td>\n",
       "      <td>17.459999</td>\n",
       "      <td>7711400</td>\n",
       "      <td>17.459999</td>\n",
       "    </tr>\n",
       "    <tr>\n",
       "      <th>7</th>\n",
       "      <td>2010-07-09</td>\n",
       "      <td>17.580000</td>\n",
       "      <td>17.900000</td>\n",
       "      <td>16.549999</td>\n",
       "      <td>17.400000</td>\n",
       "      <td>4050600</td>\n",
       "      <td>17.400000</td>\n",
       "    </tr>\n",
       "    <tr>\n",
       "      <th>8</th>\n",
       "      <td>2010-07-12</td>\n",
       "      <td>17.950001</td>\n",
       "      <td>18.070000</td>\n",
       "      <td>17.000000</td>\n",
       "      <td>17.049999</td>\n",
       "      <td>2202500</td>\n",
       "      <td>17.049999</td>\n",
       "    </tr>\n",
       "  </tbody>\n",
       "</table>\n",
       "</div>"
      ],
      "text/plain": [
       "        Date       Open       High        Low      Close   Volume  Adj Close\n",
       "4 2010-07-06  20.000000  20.000000  15.830000  16.110001  6866900  16.110001\n",
       "5 2010-07-07  16.400000  16.629999  14.980000  15.800000  6921700  15.800000\n",
       "6 2010-07-08  16.139999  17.520000  15.570000  17.459999  7711400  17.459999\n",
       "7 2010-07-09  17.580000  17.900000  16.549999  17.400000  4050600  17.400000\n",
       "8 2010-07-12  17.950001  18.070000  17.000000  17.049999  2202500  17.049999"
      ]
     },
     "execution_count": 3,
     "metadata": {},
     "output_type": "execute_result"
    }
   ],
   "source": [
    "CONTEXT_SIZE = 4\n",
    "next(window(table, k=CONTEXT_SIZE + 1))"
   ]
  },
  {
   "cell_type": "code",
   "execution_count": 4,
   "metadata": {},
   "outputs": [
    {
     "data": {
      "text/plain": [
       "(1160, 5, 6)"
      ]
     },
     "execution_count": 4,
     "metadata": {},
     "output_type": "execute_result"
    }
   ],
   "source": [
    "import numpy\n",
    "\n",
    "\n",
    "train = numpy.array([d.values for d in window(table, k=CONTEXT_SIZE + 1)])\n",
    "train = train[:, :, 1:]  # Remove Date column\n",
    "train.shape  # (N, CONTEXT_SIZE + 1, FEATURES)"
   ]
  },
  {
   "cell_type": "code",
   "execution_count": 5,
   "metadata": {},
   "outputs": [
    {
     "data": {
      "text/plain": [
       "((1160, 24), (1160, 6))"
      ]
     },
     "execution_count": 5,
     "metadata": {},
     "output_type": "execute_result"
    }
   ],
   "source": [
    "input = train[:, :-1, :]\n",
    "input = input.reshape((input.shape[0], input.shape[1] * input.shape[2]))\n",
    "output = train[:, -1, :]\n",
    "input.shape, output.shape"
   ]
  },
  {
   "cell_type": "code",
   "execution_count": 6,
   "metadata": {},
   "outputs": [
    {
     "data": {
      "text/plain": [
       "array([20.0, 20.0, 15.83, 16.110001, 6866900, 16.110001, 16.4, 16.629999,\n",
       "       14.98, 15.8, 6921700, 15.8, 16.139999, 17.52, 15.57, 17.459999,\n",
       "       7711400, 17.459999, 17.58, 17.9, 16.549999, 17.4, 4050600, 17.4],\n",
       "      dtype=object)"
      ]
     },
     "execution_count": 6,
     "metadata": {},
     "output_type": "execute_result"
    }
   ],
   "source": [
    "numpy.set_printoptions(suppress=True)\n",
    "input[0]"
   ]
  },
  {
   "cell_type": "code",
   "execution_count": 7,
   "metadata": {},
   "outputs": [
    {
     "data": {
      "text/plain": [
       "array([17.950001, 18.07, 17.0, 17.049999, 2202500, 17.049999],\n",
       "      dtype=object)"
      ]
     },
     "execution_count": 7,
     "metadata": {},
     "output_type": "execute_result"
    }
   ],
   "source": [
    "output[0]"
   ]
  },
  {
   "cell_type": "code",
   "execution_count": 8,
   "metadata": {},
   "outputs": [
    {
     "data": {
      "text/plain": [
       "0.09037257653646062"
      ]
     },
     "execution_count": 8,
     "metadata": {},
     "output_type": "execute_result"
    }
   ],
   "source": [
    "from sklearn.linear_model import LinearRegression\n",
    "from sklearn.metrics import mean_absolute_percentage_error\n",
    "\n",
    "\n",
    "model = LinearRegression()\n",
    "model.fit(input, output)\n",
    "mean_absolute_percentage_error(output, model.predict(input))"
   ]
  },
  {
   "cell_type": "code",
   "execution_count": 9,
   "metadata": {},
   "outputs": [
    {
     "data": {
      "text/plain": [
       "0.07582831619347462"
      ]
     },
     "execution_count": 9,
     "metadata": {},
     "output_type": "execute_result"
    }
   ],
   "source": [
    "table = pandas.read_csv(\"../data/tesla/test.csv\")\n",
    "table[\"Date\"] = pandas.to_datetime(table[\"Date\"])\n",
    "\n",
    "train = numpy.array([d.values for d in window(table, k=CONTEXT_SIZE + 1)])\n",
    "train = train[:, :, 1:]  # Remove Date column\n",
    "\n",
    "input = train[:, :-1, :]\n",
    "input = input.reshape((input.shape[0], input.shape[1] * input.shape[2]))\n",
    "output = train[:, -1, :]\n",
    "\n",
    "mean_absolute_percentage_error(output, model.predict(input))"
   ]
  },
  {
   "cell_type": "code",
   "execution_count": 10,
   "metadata": {},
   "outputs": [],
   "source": [
    "def evaluate(*, context_size: int) -> float:\n",
    "    table = pandas.read_csv(\"../data/tesla/train.csv\")\n",
    "    table[\"Date\"] = pandas.to_datetime(table[\"Date\"])\n",
    "\n",
    "    train = numpy.array([d.values for d in window(table, k=context_size + 1)])\n",
    "    train = train[:, :, 1:]  # Remove Date column\n",
    "\n",
    "    input = train[:, :-1, :]\n",
    "    input = input.reshape((input.shape[0], input.shape[1] * input.shape[2]))\n",
    "    output = train[:, -1, :]\n",
    "\n",
    "    model = LinearRegression()\n",
    "    model.fit(input, output)\n",
    "\n",
    "    table = pandas.read_csv(\"../data/tesla/test.csv\")\n",
    "    table[\"Date\"] = pandas.to_datetime(table[\"Date\"])\n",
    "\n",
    "    train = numpy.array([d.values for d in window(table, k=context_size + 1)])\n",
    "    train = train[:, :, 1:]  # Remove Date column\n",
    "\n",
    "    input = train[:, :-1, :]\n",
    "    input = input.reshape((input.shape[0], input.shape[1] * input.shape[2]))\n",
    "    output = train[:, -1, :]\n",
    "\n",
    "    return mean_absolute_percentage_error(output, model.predict(input))"
   ]
  },
  {
   "cell_type": "code",
   "execution_count": 11,
   "metadata": {},
   "outputs": [
    {
     "data": {
      "image/png": "[encoded data removed]",
      "text/plain": [
       "<Figure size 640x480 with 1 Axes>"
      ]
     },
     "metadata": {},
     "output_type": "display_data"
    }
   ],
   "source": [
    "from matplotlib import pyplot\n",
    "\n",
    "\n",
    "history = [None] + [evaluate(context_size=i) for i in range(1, 16)]\n",
    "pyplot.plot(history)\n",
    "pyplot.show()"
   ]
  }
 ],
 "metadata": {
  "kernelspec": {
   "display_name": "venv",
   "language": "python",
   "name": "python3"
  },
  "language_info": {
   "codemirror_mode": {
    "name": "ipython",
    "version": 3
   },
   "file_extension": ".py",
   "mimetype": "text/x-python",
   "name": "python",
   "nbconvert_exporter": "python",
   "pygments_lexer": "ipython3",
   "version": "3.12.3"
  }
 },
 "nbformat": 4,
 "nbformat_minor": 2
}
