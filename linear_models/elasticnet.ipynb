{
 "cells": [
  {
   "cell_type": "code",
   "execution_count": 1,
   "metadata": {},
   "outputs": [],
   "source": [
    "#%pip install pandas scikit-learn"
   ]
  },
  {
   "cell_type": "markdown",
   "metadata": {},
   "source": [
    "### 1. Load data"
   ]
  },
  {
   "cell_type": "code",
   "execution_count": 2,
   "metadata": {},
   "outputs": [
    {
     "name": "stdout",
     "output_type": "stream",
     "text": [
      "(1245, 6)\n",
      "         time  open  high   low  close   volume\n",
      "0  2019-01-02  7.86  7.86  7.68   7.76  1103106\n",
      "1  2019-01-03  6.99  7.73  6.99   7.47  1956382\n",
      "2  2019-01-04  7.44  7.57  7.33   7.52  2771983\n",
      "3  2019-01-07  7.68  7.68  7.57   7.63  1305819\n",
      "4  2019-01-08  8.34  8.34  7.57   7.57   846226\n",
      "5  2019-01-09  7.60  7.73  7.57   7.71  2196358\n",
      "6  2019-01-10  7.71  7.73  7.68   7.68  1378687\n",
      "7  2019-01-11  7.71  7.73  7.65   7.68  1250077\n",
      "8  2019-01-14  7.65  7.68  7.63   7.63   937155\n",
      "9  2019-01-15  7.49  7.73  7.04   7.73   901146\n",
      "(328, 6)\n",
      "         time   open   high    low  close    volume\n",
      "0  2024-01-02  20.12  20.79  20.12  20.54  13896933\n",
      "1  2024-01-03  20.58  21.00  20.37  21.00   9817807\n",
      "2  2024-01-04  21.17  21.55  21.08  21.25  23605373\n",
      "3  2024-01-05  21.25  21.38  21.04  21.38   9282598\n",
      "4  2024-01-08  21.59  21.63  21.17  21.29  12398885\n",
      "5  2024-01-09  21.21  21.29  20.96  21.00  15455964\n",
      "6  2024-01-10  21.17  21.42  21.00  21.21  17610661\n",
      "7  2024-01-11  21.34  21.63  21.13  21.21   9941849\n",
      "8  2024-01-12  21.13  22.01  21.04  21.67  25574880\n",
      "9  2024-01-15  21.84  21.84  21.25  21.25  11725544\n"
     ]
    }
   ],
   "source": [
    "import pandas as pd\n",
    "\n",
    "train_df = pd.read_csv(\"../data/vn30/ACB_train.csv\")\n",
    "test_df = pd.read_csv(\"../data/vn30/ACB_test.csv\")\n",
    "print(train_df.shape)\n",
    "print(train_df.head(10))\n",
    "print(test_df.shape)\n",
    "print(test_df.head(10))"
   ]
  },
  {
   "cell_type": "markdown",
   "metadata": {},
   "source": [
    "### 2. Proces Data"
   ]
  },
  {
   "cell_type": "code",
   "execution_count": 3,
   "metadata": {},
   "outputs": [
    {
     "name": "stdout",
     "output_type": "stream",
     "text": [
      "train shape (1240, 30)\n",
      "   open  high   low  close   volume  open_lag_1  open_lag_2  open_lag_3  \\\n",
      "5  7.60  7.73  7.57   7.71  2196358        8.34        7.68        7.44   \n",
      "6  7.71  7.73  7.68   7.68  1378687        7.60        8.34        7.68   \n",
      "7  7.71  7.73  7.65   7.68  1250077        7.71        7.60        8.34   \n",
      "8  7.65  7.68  7.63   7.63   937155        7.71        7.71        7.60   \n",
      "9  7.49  7.73  7.04   7.73   901146        7.65        7.71        7.71   \n",
      "\n",
      "   open_lag_4  open_lag_5  ...  close_lag_1  close_lag_2  close_lag_3  \\\n",
      "5        6.99        7.86  ...         7.57         7.63         7.52   \n",
      "6        7.44        6.99  ...         7.71         7.57         7.63   \n",
      "7        7.68        7.44  ...         7.68         7.71         7.57   \n",
      "8        8.34        7.68  ...         7.68         7.68         7.71   \n",
      "9        7.60        8.34  ...         7.63         7.68         7.68   \n",
      "\n",
      "   close_lag_4  close_lag_5  volume_lag_1  volume_lag_2  volume_lag_3  \\\n",
      "5         7.47         7.76      846226.0     1305819.0     2771983.0   \n",
      "6         7.52         7.47     2196358.0      846226.0     1305819.0   \n",
      "7         7.63         7.52     1378687.0     2196358.0      846226.0   \n",
      "8         7.57         7.63     1250077.0     1378687.0     2196358.0   \n",
      "9         7.71         7.57      937155.0     1250077.0     1378687.0   \n",
      "\n",
      "   volume_lag_4  volume_lag_5  \n",
      "5     1956382.0     1103106.0  \n",
      "6     2771983.0     1956382.0  \n",
      "7     1305819.0     2771983.0  \n",
      "8      846226.0     1305819.0  \n",
      "9     2196358.0      846226.0  \n",
      "\n",
      "[5 rows x 30 columns]\n",
      "test shape (323, 30)\n",
      "    open   high    low  close    volume  open_lag_1  open_lag_2  open_lag_3  \\\n",
      "5  21.21  21.29  20.96  21.00  15455964       21.59       21.25       21.17   \n",
      "6  21.17  21.42  21.00  21.21  17610661       21.21       21.59       21.25   \n",
      "7  21.34  21.63  21.13  21.21   9941849       21.17       21.21       21.59   \n",
      "8  21.13  22.01  21.04  21.67  25574880       21.34       21.17       21.21   \n",
      "9  21.84  21.84  21.25  21.25  11725544       21.13       21.34       21.17   \n",
      "\n",
      "   open_lag_4  open_lag_5  ...  close_lag_1  close_lag_2  close_lag_3  \\\n",
      "5       20.58       20.12  ...        21.29        21.38        21.25   \n",
      "6       21.17       20.58  ...        21.00        21.29        21.38   \n",
      "7       21.25       21.17  ...        21.21        21.00        21.29   \n",
      "8       21.59       21.25  ...        21.21        21.21        21.00   \n",
      "9       21.21       21.59  ...        21.67        21.21        21.21   \n",
      "\n",
      "   close_lag_4  close_lag_5  volume_lag_1  volume_lag_2  volume_lag_3  \\\n",
      "5        21.00        20.54    12398885.0     9282598.0    23605373.0   \n",
      "6        21.25        21.00    15455964.0    12398885.0     9282598.0   \n",
      "7        21.38        21.25    17610661.0    15455964.0    12398885.0   \n",
      "8        21.29        21.38     9941849.0    17610661.0    15455964.0   \n",
      "9        21.00        21.29    25574880.0     9941849.0    17610661.0   \n",
      "\n",
      "   volume_lag_4  volume_lag_5  \n",
      "5     9817807.0    13896933.0  \n",
      "6    23605373.0     9817807.0  \n",
      "7     9282598.0    23605373.0  \n",
      "8    12398885.0     9282598.0  \n",
      "9    15455964.0    12398885.0  \n",
      "\n",
      "[5 rows x 30 columns]\n"
     ]
    }
   ],
   "source": [
    "def lag_transform_df(df: pd.DataFrame, lag: int):\n",
    "    df_lag = df.copy()\n",
    "    for col in df_lag.columns:\n",
    "        for i in range(1, lag + 1):\n",
    "            df_lag[f'{col}_lag_{i}'] = df_lag[col].shift(i)\n",
    "    return df_lag.dropna()\n",
    "\n",
    "df_train_lag = lag_transform_df(train_df.drop([\"time\"], axis=1), 5)\n",
    "df_test_lag = lag_transform_df(test_df.drop([\"time\"], axis=1), 5)\n",
    "print(\"train shape\", df_train_lag.shape)\n",
    "print(df_train_lag.head())\n",
    "print(\"test shape\", df_test_lag.shape)\n",
    "print(df_test_lag.head())\n"
   ]
  },
  {
   "cell_type": "markdown",
   "metadata": {},
   "source": [
    "### 3. Train test split"
   ]
  },
  {
   "cell_type": "code",
   "execution_count": 10,
   "metadata": {},
   "outputs": [],
   "source": [
    "from sklearn.preprocessing import StandardScaler\n",
    "scaler = StandardScaler()\n",
    "X_train, Y_train = df_train_lag.drop([\"close\"], axis=1), df_train_lag[\"close\"]\n",
    "X_test, Y_test = df_test_lag.drop([\"close\"], axis=1), df_test_lag[\"close\"]\n",
    "X_train_scale = scaler.fit_transform(X_train)\n",
    "X_test_scale = scaler.transform(X_test)\n"
   ]
  },
  {
   "cell_type": "markdown",
   "metadata": {},
   "source": [
    "### 4. Train"
   ]
  },
  {
   "cell_type": "code",
   "execution_count": 17,
   "metadata": {},
   "outputs": [
    {
     "name": "stdout",
     "output_type": "stream",
     "text": [
      "Evaluate on Train Set\n",
      "Train Mean Squared Error: 0.021700068714036794\n",
      "Train Mean Absolute Percentage Error: 0.007523170472917357\n",
      "Train R2 Score: 0.9990027553758026\n",
      "--------------------------------\n",
      "Evaluate on Test Set\n",
      "Test Mean Squared Error: 0.028756893163902477\n",
      "Test Mean Absolute Percentage Error: 0.005364546281526971\n",
      "Test R2 Score: 0.9812220117576084\n"
     ]
    }
   ],
   "source": [
    "from sklearn.linear_model import ElasticNetCV\n",
    "from sklearn.metrics import mean_squared_error, mean_absolute_percentage_error, r2_score\n",
    "\n",
    "l1_ratio = [0.1, 0.3, 0.5, 0.7, 0.9, 1]\n",
    "alphas = [0.01, 0.1, 1, 10, 100]\n",
    "model = ElasticNetCV(cv=5, random_state=42, l1_ratio=l1_ratio, alphas=alphas, max_iter=10000)\n",
    "model.fit(X_train_scale, Y_train)\n",
    "\n",
    "print(\"Evaluate on Train Set\")\n",
    "X_train_predicted = model.predict(X_train_scale)\n",
    "train_mse = mean_squared_error(Y_train, X_train_predicted)\n",
    "print(f\"Train Mean Squared Error: {train_mse}\")\n",
    "\n",
    "train_mape = mean_absolute_percentage_error(Y_train, X_train_predicted)\n",
    "print(f\"Train Mean Absolute Percentage Error: {train_mape}\")\n",
    "\n",
    "train_r2 = r2_score(Y_train, X_train_predicted)\n",
    "print(f\"Train R2 Score: {train_r2}\")\n",
    "\n",
    "print(\"--------------------------------\")\n",
    "print(\"Evaluate on Test Set\")\n",
    "\n",
    "X_test_predicted = model.predict(X_test_scale)\n",
    "mse = mean_squared_error(Y_test, X_test_predicted)\n",
    "print(f\"Test Mean Squared Error: {mse}\")\n",
    "\n",
    "mape = mean_absolute_percentage_error(Y_test, X_test_predicted)\n",
    "print(f\"Test Mean Absolute Percentage Error: {mape}\")\n",
    "\n",
    "r2 = r2_score(Y_test, X_test_predicted)\n",
    "print(f\"Test R2 Score: {r2}\")"
   ]
  },
  {
   "cell_type": "code",
   "execution_count": 18,
   "metadata": {},
   "outputs": [
    {
     "name": "stdout",
     "output_type": "stream",
     "text": [
      "best alpha 0.01\n",
      "best l1_ratio 1.0\n"
     ]
    }
   ],
   "source": [
    "print(\"best alpha\", model.alpha_)\n",
    "print(\"best l1_ratio\", model.l1_ratio_)\n"
   ]
  }
 ],
 "metadata": {
  "kernelspec": {
   "display_name": "trash_env",
   "language": "python",
   "name": "python3"
  },
  "language_info": {
   "codemirror_mode": {
    "name": "ipython",
    "version": 3
   },
   "file_extension": ".py",
   "mimetype": "text/x-python",
   "name": "python",
   "nbconvert_exporter": "python",
   "pygments_lexer": "ipython3",
   "version": "3.12.10"
  }
 },
 "nbformat": 4,
 "nbformat_minor": 2
}
