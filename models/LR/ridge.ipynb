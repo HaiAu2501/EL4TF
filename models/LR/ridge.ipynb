{
 "cells": [
  {
   "cell_type": "code",
   "execution_count": 151,
   "id": "2994cb76",
   "metadata": {},
   "outputs": [],
   "source": [
    "\n",
    "import os, sys\n",
    "from pathlib import Path\n",
    "\n",
    "sys.path.append(str(Path.cwd().resolve().parent))\n",
    "from preprocess import VN30, preprocess_v1\n",
    "from sklearn.preprocessing import StandardScaler\n",
    "from sklearn.model_selection import TimeSeriesSplit\n",
    "from sklearn.linear_model import RidgeCV\n",
    "from sklearn.metrics import r2_score, mean_absolute_percentage_error, root_mean_squared_error\n",
    "import numpy as np\n",
    "import pandas as pd\n",
    "from pandas import DataFrame\n",
    "import matplotlib.pyplot as plt"
   ]
  },
  {
   "cell_type": "markdown",
   "id": "c33fa57a",
   "metadata": {},
   "source": [
    "# Bước 1: Tiền xử lý dữ liệu"
   ]
  },
  {
   "cell_type": "code",
   "execution_count": 152,
   "id": "eb7b8bd1",
   "metadata": {},
   "outputs": [
    {
     "name": "stdout",
     "output_type": "stream",
     "text": [
      "=== Preprocessing ACB ===\n",
      "Train shape: (1215, 150), Val shape: (0, 150), Test shape: (298, 150)\n"
     ]
    }
   ],
   "source": [
    "# Nếu sử dụng RidgeCV thì đặt val = 0.0 do CV tự động chia tập train và valid\n",
    "data = preprocess_v1(\n",
    "  'ACB',\n",
    "  lag=30,\n",
    "  val=0.0,\n",
    "  calendar_feature=False,\n",
    "  rolling_feature=False,\n",
    "  technical_feature=False,\n",
    "  nonlinear_feature=False,\n",
    "  autocorr_feature=False,\n",
    "  trend_feature=False,\n",
    "  verbose=True)"
   ]
  },
  {
   "cell_type": "code",
   "execution_count": 153,
   "id": "3701ab9e",
   "metadata": {},
   "outputs": [],
   "source": [
    "X_train, y_train = data['train']\n",
    "X_val, y_val = data['val']\n",
    "X_test, y_test = data['test']\n",
    "feature_sc = data['scaler']['feature']\n",
    "target_sc = data['scaler']['target']"
   ]
  },
  {
   "cell_type": "code",
   "execution_count": 154,
   "id": "771e344a",
   "metadata": {},
   "outputs": [
    {
     "name": "stdout",
     "output_type": "stream",
     "text": [
      "ACB\n",
      "BCM\n",
      "BID\n",
      "BVH\n",
      "CTG\n",
      "FPT\n",
      "GAS\n",
      "GVR\n",
      "HDB\n",
      "HPG\n",
      "LPB\n",
      "MBB\n",
      "MSN\n",
      "MWG\n",
      "PLX\n",
      "SAB\n",
      "SHB\n",
      "SSB\n",
      "SSI\n",
      "STB\n",
      "TCB\n",
      "TPB\n",
      "VCB\n",
      "VHM\n",
      "VIB\n",
      "VIC\n",
      "VJC\n",
      "VNM\n",
      "VPB\n",
      "VRE\n"
     ]
    }
   ],
   "source": [
    "# Tất cả mã chứng khoán đều nằm trong VN30\n",
    "for code in VN30:\n",
    "\tprint(code)"
   ]
  },
  {
   "cell_type": "markdown",
   "id": "6e9454ec",
   "metadata": {},
   "source": [
    "# Bước 2: Huấn luyện mô hình\n",
    "\n",
    "* RidgeCV (lag = 30, 7 flags)\n"
   ]
  },
  {
   "cell_type": "code",
   "execution_count": 155,
   "id": "02b1e87f",
   "metadata": {},
   "outputs": [],
   "source": [
    "def train(X, y):\n",
    "  tscv = TimeSeriesSplit()\n",
    "  model = RidgeCV(cv=tscv)\n",
    "  model.fit(X, y)\n",
    "  return model"
   ]
  },
  {
   "cell_type": "markdown",
   "id": "f30a3e0a",
   "metadata": {},
   "source": [
    "# Bước 3: Đánh giá mô hình"
   ]
  },
  {
   "cell_type": "code",
   "execution_count": 156,
   "id": "25f23e46",
   "metadata": {},
   "outputs": [],
   "source": [
    "def print_result(y_train, y_train_pred, y_test, y_test_pred):\n",
    "  print(\"Train R2-squared:\", r2_score(y_train, y_train_pred))\n",
    "  print(\"Test R2-square:\", r2_score(y_test, y_test_pred))\n",
    "  print(\"Train MAPE:\", mean_absolute_percentage_error(target_sc.inverse_transform(y_train), target_sc.inverse_transform(y_train_pred)))\n",
    "  print(\"Test MAPE:\", mean_absolute_percentage_error(target_sc.inverse_transform(y_test), target_sc.inverse_transform(y_test_pred)))\n",
    "  print(\"Train RMSE:\", root_mean_squared_error(y_train, y_train_pred))\n",
    "  print(\"Test RMSE:\", root_mean_squared_error(y_test, y_test_pred))"
   ]
  },
  {
   "cell_type": "code",
   "execution_count": 157,
   "id": "ad610506",
   "metadata": {},
   "outputs": [],
   "source": [
    "model = train(X_train, y_train)\n",
    "y_train_pred = model.predict(X_train)\n",
    "y_test_pred = model.predict(X_test)"
   ]
  },
  {
   "cell_type": "code",
   "execution_count": 158,
   "id": "2d0677c4",
   "metadata": {},
   "outputs": [
    {
     "data": {
      "text/plain": [
       "(array([-1.28930409, -1.30488906, -1.27205656, -1.28478442, -0.82244553]),\n",
       " array([-1.28166938, -1.28598609, -1.26211533, -1.26150403, -0.69633272]))"
      ]
     },
     "execution_count": 158,
     "metadata": {},
     "output_type": "execute_result"
    }
   ],
   "source": [
    "y_train[0], y_train_pred[0]"
   ]
  },
  {
   "cell_type": "code",
   "execution_count": 159,
   "id": "75ede76f",
   "metadata": {},
   "outputs": [
    {
     "name": "stdout",
     "output_type": "stream",
     "text": [
      "Train R2-squared: 0.907711303638966\n",
      "Test R2-square: 0.7815098230398043\n",
      "Train MAPE: 0.09540486281618658\n",
      "Test MAPE: 0.1041862913058685\n",
      "Train RMSE: 0.16779161986063465\n",
      "Test RMSE: 0.33362675038133466\n"
     ]
    }
   ],
   "source": [
    "print_result(y_train, y_train_pred, y_test, y_test_pred)"
   ]
  },
  {
   "cell_type": "code",
   "execution_count": 163,
   "id": "624699de",
   "metadata": {},
   "outputs": [
    {
     "name": "stdout",
     "output_type": "stream",
     "text": [
      "False\n",
      "True\n",
      "True\n",
      "True\n",
      "True\n",
      "True\n",
      "True\n"
     ]
    }
   ],
   "source": [
    "flags_list = [\n",
    "  \"none\",\n",
    "  \"calendar_feature\",\n",
    "  \"rolling_feature\",\n",
    "  \"technical_feature\",\n",
    "  \"nonlinear_feature\",\n",
    "  \"autocorr_feature\",\n",
    "  \"trend_feature\"\n",
    "]\n",
    "flags_dict = {\n",
    "  flag: False for flag in flags_list if flag != \"none\"\n",
    "}\n",
    "# flags_dict[\"\"] = None\n",
    "# tmp = preprocess_v1(\"ABC\", **flags_dict)\n",
    "# tmp\n",
    "for flag in flags_list:\n",
    "  print(flag in flags_dict)"
   ]
  },
  {
   "cell_type": "markdown",
   "id": "76b10298",
   "metadata": {},
   "source": [
    "# Đánh giá toàn bộ dữ liệu"
   ]
  },
  {
   "cell_type": "code",
   "execution_count": 165,
   "id": "c0cef134",
   "metadata": {},
   "outputs": [
    {
     "name": "stdout",
     "output_type": "stream",
     "text": [
      "ACB {'calendar_feature': False, 'rolling_feature': False, 'technical_feature': False, 'nonlinear_feature': False, 'autocorr_feature': False, 'trend_feature': False} 0.7815098230398043\n",
      "ACB {'calendar_feature': True, 'rolling_feature': False, 'technical_feature': False, 'nonlinear_feature': False, 'autocorr_feature': False, 'trend_feature': False} 0.7778807169363746\n",
      "ACB {'calendar_feature': True, 'rolling_feature': True, 'technical_feature': False, 'nonlinear_feature': False, 'autocorr_feature': False, 'trend_feature': False} 0.7810307219059842\n",
      "ACB {'calendar_feature': True, 'rolling_feature': True, 'technical_feature': True, 'nonlinear_feature': False, 'autocorr_feature': False, 'trend_feature': False} 0.7638314171692717\n",
      "ACB {'calendar_feature': True, 'rolling_feature': True, 'technical_feature': True, 'nonlinear_feature': True, 'autocorr_feature': False, 'trend_feature': False} 0.7804223903216215\n",
      "ACB {'calendar_feature': True, 'rolling_feature': True, 'technical_feature': True, 'nonlinear_feature': True, 'autocorr_feature': True, 'trend_feature': False} 0.7813599807755077\n",
      "ACB {'calendar_feature': True, 'rolling_feature': True, 'technical_feature': True, 'nonlinear_feature': True, 'autocorr_feature': True, 'trend_feature': True} 0.7814643543248848\n",
      "BCM {'calendar_feature': False, 'rolling_feature': False, 'technical_feature': False, 'nonlinear_feature': False, 'autocorr_feature': False, 'trend_feature': False} 0.8056526932584509\n",
      "BCM {'calendar_feature': True, 'rolling_feature': False, 'technical_feature': False, 'nonlinear_feature': False, 'autocorr_feature': False, 'trend_feature': False} 0.8063283381410095\n",
      "BCM {'calendar_feature': True, 'rolling_feature': True, 'technical_feature': False, 'nonlinear_feature': False, 'autocorr_feature': False, 'trend_feature': False} 0.807139096657836\n",
      "BCM {'calendar_feature': True, 'rolling_feature': True, 'technical_feature': True, 'nonlinear_feature': False, 'autocorr_feature': False, 'trend_feature': False} 0.7868354148124632\n",
      "BCM {'calendar_feature': True, 'rolling_feature': True, 'technical_feature': True, 'nonlinear_feature': True, 'autocorr_feature': False, 'trend_feature': False} 0.8088316100647187\n",
      "BCM {'calendar_feature': True, 'rolling_feature': True, 'technical_feature': True, 'nonlinear_feature': True, 'autocorr_feature': True, 'trend_feature': False} 0.8082666294943385\n",
      "BCM {'calendar_feature': True, 'rolling_feature': True, 'technical_feature': True, 'nonlinear_feature': True, 'autocorr_feature': True, 'trend_feature': True} 0.8076272657742235\n",
      "BID {'calendar_feature': False, 'rolling_feature': False, 'technical_feature': False, 'nonlinear_feature': False, 'autocorr_feature': False, 'trend_feature': False} 0.7748878484080265\n",
      "BID {'calendar_feature': True, 'rolling_feature': False, 'technical_feature': False, 'nonlinear_feature': False, 'autocorr_feature': False, 'trend_feature': False} 0.7753179222850516\n",
      "BID {'calendar_feature': True, 'rolling_feature': True, 'technical_feature': False, 'nonlinear_feature': False, 'autocorr_feature': False, 'trend_feature': False} 0.7742419541550627\n",
      "BID {'calendar_feature': True, 'rolling_feature': True, 'technical_feature': True, 'nonlinear_feature': False, 'autocorr_feature': False, 'trend_feature': False} 0.7765301823137923\n",
      "BID {'calendar_feature': True, 'rolling_feature': True, 'technical_feature': True, 'nonlinear_feature': True, 'autocorr_feature': False, 'trend_feature': False} 0.7813483764842843\n",
      "BID {'calendar_feature': True, 'rolling_feature': True, 'technical_feature': True, 'nonlinear_feature': True, 'autocorr_feature': True, 'trend_feature': False} 0.7808635642240609\n",
      "BID {'calendar_feature': True, 'rolling_feature': True, 'technical_feature': True, 'nonlinear_feature': True, 'autocorr_feature': True, 'trend_feature': True} 0.7809396214598298\n",
      "BVH {'calendar_feature': False, 'rolling_feature': False, 'technical_feature': False, 'nonlinear_feature': False, 'autocorr_feature': False, 'trend_feature': False} 0.8205827499626943\n",
      "BVH {'calendar_feature': True, 'rolling_feature': False, 'technical_feature': False, 'nonlinear_feature': False, 'autocorr_feature': False, 'trend_feature': False} 0.8181137828119365\n",
      "BVH {'calendar_feature': True, 'rolling_feature': True, 'technical_feature': False, 'nonlinear_feature': False, 'autocorr_feature': False, 'trend_feature': False} 0.8222900917327648\n",
      "BVH {'calendar_feature': True, 'rolling_feature': True, 'technical_feature': True, 'nonlinear_feature': False, 'autocorr_feature': False, 'trend_feature': False} 0.8229341317077058\n",
      "BVH {'calendar_feature': True, 'rolling_feature': True, 'technical_feature': True, 'nonlinear_feature': True, 'autocorr_feature': False, 'trend_feature': False} 0.818339965322364\n",
      "BVH {'calendar_feature': True, 'rolling_feature': True, 'technical_feature': True, 'nonlinear_feature': True, 'autocorr_feature': True, 'trend_feature': False} 0.8191129324907311\n",
      "BVH {'calendar_feature': True, 'rolling_feature': True, 'technical_feature': True, 'nonlinear_feature': True, 'autocorr_feature': True, 'trend_feature': True} 0.8191181493112012\n",
      "CTG {'calendar_feature': False, 'rolling_feature': False, 'technical_feature': False, 'nonlinear_feature': False, 'autocorr_feature': False, 'trend_feature': False} 0.7787413333719925\n",
      "CTG {'calendar_feature': True, 'rolling_feature': False, 'technical_feature': False, 'nonlinear_feature': False, 'autocorr_feature': False, 'trend_feature': False} 0.7784548830240242\n",
      "CTG {'calendar_feature': True, 'rolling_feature': True, 'technical_feature': False, 'nonlinear_feature': False, 'autocorr_feature': False, 'trend_feature': False} 0.7765929599425216\n",
      "CTG {'calendar_feature': True, 'rolling_feature': True, 'technical_feature': True, 'nonlinear_feature': False, 'autocorr_feature': False, 'trend_feature': False} 0.7794845084897267\n",
      "CTG {'calendar_feature': True, 'rolling_feature': True, 'technical_feature': True, 'nonlinear_feature': True, 'autocorr_feature': False, 'trend_feature': False} 0.7836178141618924\n",
      "CTG {'calendar_feature': True, 'rolling_feature': True, 'technical_feature': True, 'nonlinear_feature': True, 'autocorr_feature': True, 'trend_feature': False} 0.7847829535382413\n",
      "CTG {'calendar_feature': True, 'rolling_feature': True, 'technical_feature': True, 'nonlinear_feature': True, 'autocorr_feature': True, 'trend_feature': True} 0.7849662350792554\n",
      "FPT {'calendar_feature': False, 'rolling_feature': False, 'technical_feature': False, 'nonlinear_feature': False, 'autocorr_feature': False, 'trend_feature': False} 0.8299986840356242\n",
      "FPT {'calendar_feature': True, 'rolling_feature': False, 'technical_feature': False, 'nonlinear_feature': False, 'autocorr_feature': False, 'trend_feature': False} 0.8294026174457233\n",
      "FPT {'calendar_feature': True, 'rolling_feature': True, 'technical_feature': False, 'nonlinear_feature': False, 'autocorr_feature': False, 'trend_feature': False} 0.8139345467639924\n",
      "FPT {'calendar_feature': True, 'rolling_feature': True, 'technical_feature': True, 'nonlinear_feature': False, 'autocorr_feature': False, 'trend_feature': False} 0.8184893636498541\n",
      "FPT {'calendar_feature': True, 'rolling_feature': True, 'technical_feature': True, 'nonlinear_feature': True, 'autocorr_feature': False, 'trend_feature': False} 0.8294228146482631\n",
      "FPT {'calendar_feature': True, 'rolling_feature': True, 'technical_feature': True, 'nonlinear_feature': True, 'autocorr_feature': True, 'trend_feature': False} 0.8285283456129242\n",
      "FPT {'calendar_feature': True, 'rolling_feature': True, 'technical_feature': True, 'nonlinear_feature': True, 'autocorr_feature': True, 'trend_feature': True} 0.8285825514959558\n",
      "GAS {'calendar_feature': False, 'rolling_feature': False, 'technical_feature': False, 'nonlinear_feature': False, 'autocorr_feature': False, 'trend_feature': False} 0.8388579973460064\n",
      "GAS {'calendar_feature': True, 'rolling_feature': False, 'technical_feature': False, 'nonlinear_feature': False, 'autocorr_feature': False, 'trend_feature': False} 0.8377947560512455\n",
      "GAS {'calendar_feature': True, 'rolling_feature': True, 'technical_feature': False, 'nonlinear_feature': False, 'autocorr_feature': False, 'trend_feature': False} 0.8274259203444825\n",
      "GAS {'calendar_feature': True, 'rolling_feature': True, 'technical_feature': True, 'nonlinear_feature': False, 'autocorr_feature': False, 'trend_feature': False} 0.823206509813242\n",
      "GAS {'calendar_feature': True, 'rolling_feature': True, 'technical_feature': True, 'nonlinear_feature': True, 'autocorr_feature': False, 'trend_feature': False} 0.8273098132632398\n",
      "GAS {'calendar_feature': True, 'rolling_feature': True, 'technical_feature': True, 'nonlinear_feature': True, 'autocorr_feature': True, 'trend_feature': False} 0.8269599929392756\n",
      "GAS {'calendar_feature': True, 'rolling_feature': True, 'technical_feature': True, 'nonlinear_feature': True, 'autocorr_feature': True, 'trend_feature': True} 0.8270646486669759\n",
      "GVR {'calendar_feature': False, 'rolling_feature': False, 'technical_feature': False, 'nonlinear_feature': False, 'autocorr_feature': False, 'trend_feature': False} 0.803630825797575\n",
      "GVR {'calendar_feature': True, 'rolling_feature': False, 'technical_feature': False, 'nonlinear_feature': False, 'autocorr_feature': False, 'trend_feature': False} 0.8033690782008573\n",
      "GVR {'calendar_feature': True, 'rolling_feature': True, 'technical_feature': False, 'nonlinear_feature': False, 'autocorr_feature': False, 'trend_feature': False} 0.8035246904331045\n",
      "GVR {'calendar_feature': True, 'rolling_feature': True, 'technical_feature': True, 'nonlinear_feature': False, 'autocorr_feature': False, 'trend_feature': False} 0.8090070985888875\n",
      "GVR {'calendar_feature': True, 'rolling_feature': True, 'technical_feature': True, 'nonlinear_feature': True, 'autocorr_feature': False, 'trend_feature': False} 0.8088210253735815\n",
      "GVR {'calendar_feature': True, 'rolling_feature': True, 'technical_feature': True, 'nonlinear_feature': True, 'autocorr_feature': True, 'trend_feature': False} 0.8081643254320028\n",
      "GVR {'calendar_feature': True, 'rolling_feature': True, 'technical_feature': True, 'nonlinear_feature': True, 'autocorr_feature': True, 'trend_feature': True} 0.8083423998732171\n",
      "HDB {'calendar_feature': False, 'rolling_feature': False, 'technical_feature': False, 'nonlinear_feature': False, 'autocorr_feature': False, 'trend_feature': False} 0.8151385062716912\n",
      "HDB {'calendar_feature': True, 'rolling_feature': False, 'technical_feature': False, 'nonlinear_feature': False, 'autocorr_feature': False, 'trend_feature': False} 0.8160757431615927\n",
      "HDB {'calendar_feature': True, 'rolling_feature': True, 'technical_feature': False, 'nonlinear_feature': False, 'autocorr_feature': False, 'trend_feature': False} 0.8119416450372281\n",
      "HDB {'calendar_feature': True, 'rolling_feature': True, 'technical_feature': True, 'nonlinear_feature': False, 'autocorr_feature': False, 'trend_feature': False} 0.8116506719713203\n",
      "HDB {'calendar_feature': True, 'rolling_feature': True, 'technical_feature': True, 'nonlinear_feature': True, 'autocorr_feature': False, 'trend_feature': False} 0.8101641408127376\n",
      "HDB {'calendar_feature': True, 'rolling_feature': True, 'technical_feature': True, 'nonlinear_feature': True, 'autocorr_feature': True, 'trend_feature': False} 0.8090830908336255\n",
      "HDB {'calendar_feature': True, 'rolling_feature': True, 'technical_feature': True, 'nonlinear_feature': True, 'autocorr_feature': True, 'trend_feature': True} 0.8091566867801265\n",
      "HPG {'calendar_feature': False, 'rolling_feature': False, 'technical_feature': False, 'nonlinear_feature': False, 'autocorr_feature': False, 'trend_feature': False} 0.7471729664035279\n",
      "HPG {'calendar_feature': True, 'rolling_feature': False, 'technical_feature': False, 'nonlinear_feature': False, 'autocorr_feature': False, 'trend_feature': False} 0.7450395905669214\n",
      "HPG {'calendar_feature': True, 'rolling_feature': True, 'technical_feature': False, 'nonlinear_feature': False, 'autocorr_feature': False, 'trend_feature': False} 0.746760708851778\n",
      "HPG {'calendar_feature': True, 'rolling_feature': True, 'technical_feature': True, 'nonlinear_feature': False, 'autocorr_feature': False, 'trend_feature': False} 0.7280262094282136\n",
      "HPG {'calendar_feature': True, 'rolling_feature': True, 'technical_feature': True, 'nonlinear_feature': True, 'autocorr_feature': False, 'trend_feature': False} 0.7506669008242486\n",
      "HPG {'calendar_feature': True, 'rolling_feature': True, 'technical_feature': True, 'nonlinear_feature': True, 'autocorr_feature': True, 'trend_feature': False} 0.7506373470639349\n",
      "HPG {'calendar_feature': True, 'rolling_feature': True, 'technical_feature': True, 'nonlinear_feature': True, 'autocorr_feature': True, 'trend_feature': True} 0.7504844498286798\n",
      "LPB {'calendar_feature': False, 'rolling_feature': False, 'technical_feature': False, 'nonlinear_feature': False, 'autocorr_feature': False, 'trend_feature': False} 0.5759327545211131\n",
      "LPB {'calendar_feature': True, 'rolling_feature': False, 'technical_feature': False, 'nonlinear_feature': False, 'autocorr_feature': False, 'trend_feature': False} 0.7331733262876268\n",
      "LPB {'calendar_feature': True, 'rolling_feature': True, 'technical_feature': False, 'nonlinear_feature': False, 'autocorr_feature': False, 'trend_feature': False} 0.7065126342319047\n",
      "LPB {'calendar_feature': True, 'rolling_feature': True, 'technical_feature': True, 'nonlinear_feature': False, 'autocorr_feature': False, 'trend_feature': False} 0.7092463574789297\n",
      "LPB {'calendar_feature': True, 'rolling_feature': True, 'technical_feature': True, 'nonlinear_feature': True, 'autocorr_feature': False, 'trend_feature': False} 0.7101109957882221\n",
      "LPB {'calendar_feature': True, 'rolling_feature': True, 'technical_feature': True, 'nonlinear_feature': True, 'autocorr_feature': True, 'trend_feature': False} 0.7135654974411761\n",
      "LPB {'calendar_feature': True, 'rolling_feature': True, 'technical_feature': True, 'nonlinear_feature': True, 'autocorr_feature': True, 'trend_feature': True} 0.7136951374570003\n",
      "MBB {'calendar_feature': False, 'rolling_feature': False, 'technical_feature': False, 'nonlinear_feature': False, 'autocorr_feature': False, 'trend_feature': False} 0.8156442754014014\n",
      "MBB {'calendar_feature': True, 'rolling_feature': False, 'technical_feature': False, 'nonlinear_feature': False, 'autocorr_feature': False, 'trend_feature': False} 0.8103327944669034\n",
      "MBB {'calendar_feature': True, 'rolling_feature': True, 'technical_feature': False, 'nonlinear_feature': False, 'autocorr_feature': False, 'trend_feature': False} 0.8080538510440112\n",
      "MBB {'calendar_feature': True, 'rolling_feature': True, 'technical_feature': True, 'nonlinear_feature': False, 'autocorr_feature': False, 'trend_feature': False} 0.807489627650221\n",
      "MBB {'calendar_feature': True, 'rolling_feature': True, 'technical_feature': True, 'nonlinear_feature': True, 'autocorr_feature': False, 'trend_feature': False} 0.8127791493932479\n",
      "MBB {'calendar_feature': True, 'rolling_feature': True, 'technical_feature': True, 'nonlinear_feature': True, 'autocorr_feature': True, 'trend_feature': False} 0.8132390883081676\n",
      "MBB {'calendar_feature': True, 'rolling_feature': True, 'technical_feature': True, 'nonlinear_feature': True, 'autocorr_feature': True, 'trend_feature': True} 0.813093511958726\n",
      "MSN {'calendar_feature': False, 'rolling_feature': False, 'technical_feature': False, 'nonlinear_feature': False, 'autocorr_feature': False, 'trend_feature': False} 0.7346463101944362\n",
      "MSN {'calendar_feature': True, 'rolling_feature': False, 'technical_feature': False, 'nonlinear_feature': False, 'autocorr_feature': False, 'trend_feature': False} 0.7344173170278344\n",
      "MSN {'calendar_feature': True, 'rolling_feature': True, 'technical_feature': False, 'nonlinear_feature': False, 'autocorr_feature': False, 'trend_feature': False} 0.7374589134738472\n",
      "MSN {'calendar_feature': True, 'rolling_feature': True, 'technical_feature': True, 'nonlinear_feature': False, 'autocorr_feature': False, 'trend_feature': False} 0.733924680347237\n",
      "MSN {'calendar_feature': True, 'rolling_feature': True, 'technical_feature': True, 'nonlinear_feature': True, 'autocorr_feature': False, 'trend_feature': False} 0.7428012036982172\n",
      "MSN {'calendar_feature': True, 'rolling_feature': True, 'technical_feature': True, 'nonlinear_feature': True, 'autocorr_feature': True, 'trend_feature': False} 0.7367184804559935\n",
      "MSN {'calendar_feature': True, 'rolling_feature': True, 'technical_feature': True, 'nonlinear_feature': True, 'autocorr_feature': True, 'trend_feature': True} 0.7364129845314353\n",
      "MWG {'calendar_feature': False, 'rolling_feature': False, 'technical_feature': False, 'nonlinear_feature': False, 'autocorr_feature': False, 'trend_feature': False} 0.8056790330963415\n",
      "MWG {'calendar_feature': True, 'rolling_feature': False, 'technical_feature': False, 'nonlinear_feature': False, 'autocorr_feature': False, 'trend_feature': False} 0.8053554123970628\n",
      "MWG {'calendar_feature': True, 'rolling_feature': True, 'technical_feature': False, 'nonlinear_feature': False, 'autocorr_feature': False, 'trend_feature': False} 0.7993099407906743\n",
      "MWG {'calendar_feature': True, 'rolling_feature': True, 'technical_feature': True, 'nonlinear_feature': False, 'autocorr_feature': False, 'trend_feature': False} 0.8021544870651184\n",
      "MWG {'calendar_feature': True, 'rolling_feature': True, 'technical_feature': True, 'nonlinear_feature': True, 'autocorr_feature': False, 'trend_feature': False} 0.8071031503150163\n",
      "MWG {'calendar_feature': True, 'rolling_feature': True, 'technical_feature': True, 'nonlinear_feature': True, 'autocorr_feature': True, 'trend_feature': False} 0.8063286036503419\n",
      "MWG {'calendar_feature': True, 'rolling_feature': True, 'technical_feature': True, 'nonlinear_feature': True, 'autocorr_feature': True, 'trend_feature': True} 0.806308496429222\n",
      "PLX {'calendar_feature': False, 'rolling_feature': False, 'technical_feature': False, 'nonlinear_feature': False, 'autocorr_feature': False, 'trend_feature': False} 0.8418085354016884\n",
      "PLX {'calendar_feature': True, 'rolling_feature': False, 'technical_feature': False, 'nonlinear_feature': False, 'autocorr_feature': False, 'trend_feature': False} 0.8421889399152356\n",
      "PLX {'calendar_feature': True, 'rolling_feature': True, 'technical_feature': False, 'nonlinear_feature': False, 'autocorr_feature': False, 'trend_feature': False} 0.8398072488316239\n",
      "PLX {'calendar_feature': True, 'rolling_feature': True, 'technical_feature': True, 'nonlinear_feature': False, 'autocorr_feature': False, 'trend_feature': False} 0.8397705698792309\n",
      "PLX {'calendar_feature': True, 'rolling_feature': True, 'technical_feature': True, 'nonlinear_feature': True, 'autocorr_feature': False, 'trend_feature': False} 0.8434386986750543\n",
      "PLX {'calendar_feature': True, 'rolling_feature': True, 'technical_feature': True, 'nonlinear_feature': True, 'autocorr_feature': True, 'trend_feature': False} 0.8429286741350598\n",
      "PLX {'calendar_feature': True, 'rolling_feature': True, 'technical_feature': True, 'nonlinear_feature': True, 'autocorr_feature': True, 'trend_feature': True} 0.8429849197619614\n",
      "SAB {'calendar_feature': False, 'rolling_feature': False, 'technical_feature': False, 'nonlinear_feature': False, 'autocorr_feature': False, 'trend_feature': False} 0.7165220074237636\n",
      "SAB {'calendar_feature': True, 'rolling_feature': False, 'technical_feature': False, 'nonlinear_feature': False, 'autocorr_feature': False, 'trend_feature': False} 0.7672759856038891\n",
      "SAB {'calendar_feature': True, 'rolling_feature': True, 'technical_feature': False, 'nonlinear_feature': False, 'autocorr_feature': False, 'trend_feature': False} 0.6600774399937128\n",
      "SAB {'calendar_feature': True, 'rolling_feature': True, 'technical_feature': True, 'nonlinear_feature': False, 'autocorr_feature': False, 'trend_feature': False} 0.62030279670047\n",
      "SAB {'calendar_feature': True, 'rolling_feature': True, 'technical_feature': True, 'nonlinear_feature': True, 'autocorr_feature': False, 'trend_feature': False} 0.696256385214635\n",
      "SAB {'calendar_feature': True, 'rolling_feature': True, 'technical_feature': True, 'nonlinear_feature': True, 'autocorr_feature': True, 'trend_feature': False} 0.668247981608331\n",
      "SAB {'calendar_feature': True, 'rolling_feature': True, 'technical_feature': True, 'nonlinear_feature': True, 'autocorr_feature': True, 'trend_feature': True} 0.6665215485963782\n",
      "SHB {'calendar_feature': False, 'rolling_feature': False, 'technical_feature': False, 'nonlinear_feature': False, 'autocorr_feature': False, 'trend_feature': False} 0.8666608411211897\n",
      "SHB {'calendar_feature': True, 'rolling_feature': False, 'technical_feature': False, 'nonlinear_feature': False, 'autocorr_feature': False, 'trend_feature': False} 0.8696164296201999\n",
      "SHB {'calendar_feature': True, 'rolling_feature': True, 'technical_feature': False, 'nonlinear_feature': False, 'autocorr_feature': False, 'trend_feature': False} 0.8624470543814367\n",
      "SHB {'calendar_feature': True, 'rolling_feature': True, 'technical_feature': True, 'nonlinear_feature': False, 'autocorr_feature': False, 'trend_feature': False} 0.8598409466675937\n",
      "SHB {'calendar_feature': True, 'rolling_feature': True, 'technical_feature': True, 'nonlinear_feature': True, 'autocorr_feature': False, 'trend_feature': False} 0.8608552970321017\n",
      "SHB {'calendar_feature': True, 'rolling_feature': True, 'technical_feature': True, 'nonlinear_feature': True, 'autocorr_feature': True, 'trend_feature': False} 0.8591740778236403\n",
      "SHB {'calendar_feature': True, 'rolling_feature': True, 'technical_feature': True, 'nonlinear_feature': True, 'autocorr_feature': True, 'trend_feature': True} 0.8590997667531501\n",
      "SSB {'calendar_feature': False, 'rolling_feature': False, 'technical_feature': False, 'nonlinear_feature': False, 'autocorr_feature': False, 'trend_feature': False} 0.8327369350213194\n",
      "SSB {'calendar_feature': True, 'rolling_feature': False, 'technical_feature': False, 'nonlinear_feature': False, 'autocorr_feature': False, 'trend_feature': False} 0.8291221725245956\n",
      "SSB {'calendar_feature': True, 'rolling_feature': True, 'technical_feature': False, 'nonlinear_feature': False, 'autocorr_feature': False, 'trend_feature': False} 0.8231774891273869\n",
      "SSB {'calendar_feature': True, 'rolling_feature': True, 'technical_feature': True, 'nonlinear_feature': False, 'autocorr_feature': False, 'trend_feature': False} 0.8218673741517059\n",
      "SSB {'calendar_feature': True, 'rolling_feature': True, 'technical_feature': True, 'nonlinear_feature': True, 'autocorr_feature': False, 'trend_feature': False} 0.8306647639714058\n",
      "SSB {'calendar_feature': True, 'rolling_feature': True, 'technical_feature': True, 'nonlinear_feature': True, 'autocorr_feature': True, 'trend_feature': False} 0.8262324034407118\n",
      "SSB {'calendar_feature': True, 'rolling_feature': True, 'technical_feature': True, 'nonlinear_feature': True, 'autocorr_feature': True, 'trend_feature': True} 0.8261971067450142\n",
      "SSI {'calendar_feature': False, 'rolling_feature': False, 'technical_feature': False, 'nonlinear_feature': False, 'autocorr_feature': False, 'trend_feature': False} 0.808521810685604\n",
      "SSI {'calendar_feature': True, 'rolling_feature': False, 'technical_feature': False, 'nonlinear_feature': False, 'autocorr_feature': False, 'trend_feature': False} 0.809098233768171\n",
      "SSI {'calendar_feature': True, 'rolling_feature': True, 'technical_feature': False, 'nonlinear_feature': False, 'autocorr_feature': False, 'trend_feature': False} 0.8064274153049548\n",
      "SSI {'calendar_feature': True, 'rolling_feature': True, 'technical_feature': True, 'nonlinear_feature': False, 'autocorr_feature': False, 'trend_feature': False} 0.804324180207891\n",
      "SSI {'calendar_feature': True, 'rolling_feature': True, 'technical_feature': True, 'nonlinear_feature': True, 'autocorr_feature': False, 'trend_feature': False} 0.8051094078115589\n",
      "SSI {'calendar_feature': True, 'rolling_feature': True, 'technical_feature': True, 'nonlinear_feature': True, 'autocorr_feature': True, 'trend_feature': False} 0.8053942283771042\n",
      "SSI {'calendar_feature': True, 'rolling_feature': True, 'technical_feature': True, 'nonlinear_feature': True, 'autocorr_feature': True, 'trend_feature': True} 0.8051792251039209\n",
      "STB {'calendar_feature': False, 'rolling_feature': False, 'technical_feature': False, 'nonlinear_feature': False, 'autocorr_feature': False, 'trend_feature': False} 0.8258566932349499\n",
      "STB {'calendar_feature': True, 'rolling_feature': False, 'technical_feature': False, 'nonlinear_feature': False, 'autocorr_feature': False, 'trend_feature': False} 0.8166871532691584\n",
      "STB {'calendar_feature': True, 'rolling_feature': True, 'technical_feature': False, 'nonlinear_feature': False, 'autocorr_feature': False, 'trend_feature': False} 0.8123604968163513\n",
      "STB {'calendar_feature': True, 'rolling_feature': True, 'technical_feature': True, 'nonlinear_feature': False, 'autocorr_feature': False, 'trend_feature': False} 0.8183093951398078\n",
      "STB {'calendar_feature': True, 'rolling_feature': True, 'technical_feature': True, 'nonlinear_feature': True, 'autocorr_feature': False, 'trend_feature': False} 0.8251053517332665\n",
      "STB {'calendar_feature': True, 'rolling_feature': True, 'technical_feature': True, 'nonlinear_feature': True, 'autocorr_feature': True, 'trend_feature': False} 0.8256894592362635\n",
      "STB {'calendar_feature': True, 'rolling_feature': True, 'technical_feature': True, 'nonlinear_feature': True, 'autocorr_feature': True, 'trend_feature': True} 0.8257000010746518\n",
      "TCB {'calendar_feature': False, 'rolling_feature': False, 'technical_feature': False, 'nonlinear_feature': False, 'autocorr_feature': False, 'trend_feature': False} 0.79422464120886\n",
      "TCB {'calendar_feature': True, 'rolling_feature': False, 'technical_feature': False, 'nonlinear_feature': False, 'autocorr_feature': False, 'trend_feature': False} 0.7926518476146103\n",
      "TCB {'calendar_feature': True, 'rolling_feature': True, 'technical_feature': False, 'nonlinear_feature': False, 'autocorr_feature': False, 'trend_feature': False} 0.7931421046881388\n",
      "TCB {'calendar_feature': True, 'rolling_feature': True, 'technical_feature': True, 'nonlinear_feature': False, 'autocorr_feature': False, 'trend_feature': False} 0.7930980342986755\n",
      "TCB {'calendar_feature': True, 'rolling_feature': True, 'technical_feature': True, 'nonlinear_feature': True, 'autocorr_feature': False, 'trend_feature': False} 0.7909698639410903\n",
      "TCB {'calendar_feature': True, 'rolling_feature': True, 'technical_feature': True, 'nonlinear_feature': True, 'autocorr_feature': True, 'trend_feature': False} 0.7906567567083899\n",
      "TCB {'calendar_feature': True, 'rolling_feature': True, 'technical_feature': True, 'nonlinear_feature': True, 'autocorr_feature': True, 'trend_feature': True} 0.790903783838103\n",
      "TPB {'calendar_feature': False, 'rolling_feature': False, 'technical_feature': False, 'nonlinear_feature': False, 'autocorr_feature': False, 'trend_feature': False} 0.7842010852400556\n",
      "TPB {'calendar_feature': True, 'rolling_feature': False, 'technical_feature': False, 'nonlinear_feature': False, 'autocorr_feature': False, 'trend_feature': False} 0.7841923208421074\n",
      "TPB {'calendar_feature': True, 'rolling_feature': True, 'technical_feature': False, 'nonlinear_feature': False, 'autocorr_feature': False, 'trend_feature': False} 0.7762709350799135\n",
      "TPB {'calendar_feature': True, 'rolling_feature': True, 'technical_feature': True, 'nonlinear_feature': False, 'autocorr_feature': False, 'trend_feature': False} 0.7765903562158\n",
      "TPB {'calendar_feature': True, 'rolling_feature': True, 'technical_feature': True, 'nonlinear_feature': True, 'autocorr_feature': False, 'trend_feature': False} 0.7857681258998555\n",
      "TPB {'calendar_feature': True, 'rolling_feature': True, 'technical_feature': True, 'nonlinear_feature': True, 'autocorr_feature': True, 'trend_feature': False} 0.7858870853649524\n",
      "TPB {'calendar_feature': True, 'rolling_feature': True, 'technical_feature': True, 'nonlinear_feature': True, 'autocorr_feature': True, 'trend_feature': True} 0.7854973196482142\n",
      "VCB {'calendar_feature': False, 'rolling_feature': False, 'technical_feature': False, 'nonlinear_feature': False, 'autocorr_feature': False, 'trend_feature': False} 0.7776235763784755\n",
      "VCB {'calendar_feature': True, 'rolling_feature': False, 'technical_feature': False, 'nonlinear_feature': False, 'autocorr_feature': False, 'trend_feature': False} 0.7481694608605991\n",
      "VCB {'calendar_feature': True, 'rolling_feature': True, 'technical_feature': False, 'nonlinear_feature': False, 'autocorr_feature': False, 'trend_feature': False} 0.7392241828302503\n",
      "VCB {'calendar_feature': True, 'rolling_feature': True, 'technical_feature': True, 'nonlinear_feature': False, 'autocorr_feature': False, 'trend_feature': False} 0.7514875654751413\n",
      "VCB {'calendar_feature': True, 'rolling_feature': True, 'technical_feature': True, 'nonlinear_feature': True, 'autocorr_feature': False, 'trend_feature': False} 0.7669568074697473\n",
      "VCB {'calendar_feature': True, 'rolling_feature': True, 'technical_feature': True, 'nonlinear_feature': True, 'autocorr_feature': True, 'trend_feature': False} 0.7665028376384291\n",
      "VCB {'calendar_feature': True, 'rolling_feature': True, 'technical_feature': True, 'nonlinear_feature': True, 'autocorr_feature': True, 'trend_feature': True} 0.7652045009151297\n",
      "VHM {'calendar_feature': False, 'rolling_feature': False, 'technical_feature': False, 'nonlinear_feature': False, 'autocorr_feature': False, 'trend_feature': False} 0.8423201784706421\n",
      "VHM {'calendar_feature': True, 'rolling_feature': False, 'technical_feature': False, 'nonlinear_feature': False, 'autocorr_feature': False, 'trend_feature': False} 0.8403187402252372\n",
      "VHM {'calendar_feature': True, 'rolling_feature': True, 'technical_feature': False, 'nonlinear_feature': False, 'autocorr_feature': False, 'trend_feature': False} 0.8403772766334467\n",
      "VHM {'calendar_feature': True, 'rolling_feature': True, 'technical_feature': True, 'nonlinear_feature': False, 'autocorr_feature': False, 'trend_feature': False} 0.836464063880304\n",
      "VHM {'calendar_feature': True, 'rolling_feature': True, 'technical_feature': True, 'nonlinear_feature': True, 'autocorr_feature': False, 'trend_feature': False} 0.8401708743954408\n",
      "VHM {'calendar_feature': True, 'rolling_feature': True, 'technical_feature': True, 'nonlinear_feature': True, 'autocorr_feature': True, 'trend_feature': False} 0.8421033783087237\n",
      "VHM {'calendar_feature': True, 'rolling_feature': True, 'technical_feature': True, 'nonlinear_feature': True, 'autocorr_feature': True, 'trend_feature': True} 0.8421641585674555\n",
      "VIB {'calendar_feature': False, 'rolling_feature': False, 'technical_feature': False, 'nonlinear_feature': False, 'autocorr_feature': False, 'trend_feature': False} 0.7716810772877143\n",
      "VIB {'calendar_feature': True, 'rolling_feature': False, 'technical_feature': False, 'nonlinear_feature': False, 'autocorr_feature': False, 'trend_feature': False} 0.7714273795041938\n",
      "VIB {'calendar_feature': True, 'rolling_feature': True, 'technical_feature': False, 'nonlinear_feature': False, 'autocorr_feature': False, 'trend_feature': False} 0.7618623867097785\n",
      "VIB {'calendar_feature': True, 'rolling_feature': True, 'technical_feature': True, 'nonlinear_feature': False, 'autocorr_feature': False, 'trend_feature': False} 0.7658949066048847\n",
      "VIB {'calendar_feature': True, 'rolling_feature': True, 'technical_feature': True, 'nonlinear_feature': True, 'autocorr_feature': False, 'trend_feature': False} 0.765744898609712\n",
      "VIB {'calendar_feature': True, 'rolling_feature': True, 'technical_feature': True, 'nonlinear_feature': True, 'autocorr_feature': True, 'trend_feature': False} 0.7653179384753868\n",
      "VIB {'calendar_feature': True, 'rolling_feature': True, 'technical_feature': True, 'nonlinear_feature': True, 'autocorr_feature': True, 'trend_feature': True} 0.7652710658736415\n",
      "VIC {'calendar_feature': False, 'rolling_feature': False, 'technical_feature': False, 'nonlinear_feature': False, 'autocorr_feature': False, 'trend_feature': False} 0.8986550425758677\n",
      "VIC {'calendar_feature': True, 'rolling_feature': False, 'technical_feature': False, 'nonlinear_feature': False, 'autocorr_feature': False, 'trend_feature': False} 0.8981746071001947\n",
      "VIC {'calendar_feature': True, 'rolling_feature': True, 'technical_feature': False, 'nonlinear_feature': False, 'autocorr_feature': False, 'trend_feature': False} 0.8984080563916141\n",
      "VIC {'calendar_feature': True, 'rolling_feature': True, 'technical_feature': True, 'nonlinear_feature': False, 'autocorr_feature': False, 'trend_feature': False} 0.8984439346621244\n",
      "VIC {'calendar_feature': True, 'rolling_feature': True, 'technical_feature': True, 'nonlinear_feature': True, 'autocorr_feature': False, 'trend_feature': False} 0.8975985784889439\n",
      "VIC {'calendar_feature': True, 'rolling_feature': True, 'technical_feature': True, 'nonlinear_feature': True, 'autocorr_feature': True, 'trend_feature': False} 0.8970856362125875\n",
      "VIC {'calendar_feature': True, 'rolling_feature': True, 'technical_feature': True, 'nonlinear_feature': True, 'autocorr_feature': True, 'trend_feature': True} 0.8971069605890335\n",
      "VJC {'calendar_feature': False, 'rolling_feature': False, 'technical_feature': False, 'nonlinear_feature': False, 'autocorr_feature': False, 'trend_feature': False} 0.847542184759767\n",
      "VJC {'calendar_feature': True, 'rolling_feature': False, 'technical_feature': False, 'nonlinear_feature': False, 'autocorr_feature': False, 'trend_feature': False} 0.8499184789145735\n",
      "VJC {'calendar_feature': True, 'rolling_feature': True, 'technical_feature': False, 'nonlinear_feature': False, 'autocorr_feature': False, 'trend_feature': False} 0.8447743888492528\n",
      "VJC {'calendar_feature': True, 'rolling_feature': True, 'technical_feature': True, 'nonlinear_feature': False, 'autocorr_feature': False, 'trend_feature': False} 0.8454075402363234\n",
      "VJC {'calendar_feature': True, 'rolling_feature': True, 'technical_feature': True, 'nonlinear_feature': True, 'autocorr_feature': False, 'trend_feature': False} 0.8455995278859341\n",
      "VJC {'calendar_feature': True, 'rolling_feature': True, 'technical_feature': True, 'nonlinear_feature': True, 'autocorr_feature': True, 'trend_feature': False} 0.8424998998563824\n",
      "VJC {'calendar_feature': True, 'rolling_feature': True, 'technical_feature': True, 'nonlinear_feature': True, 'autocorr_feature': True, 'trend_feature': True} 0.84255607679146\n",
      "VNM {'calendar_feature': False, 'rolling_feature': False, 'technical_feature': False, 'nonlinear_feature': False, 'autocorr_feature': False, 'trend_feature': False} 0.8311002450699612\n",
      "VNM {'calendar_feature': True, 'rolling_feature': False, 'technical_feature': False, 'nonlinear_feature': False, 'autocorr_feature': False, 'trend_feature': False} 0.8287209243750459\n",
      "VNM {'calendar_feature': True, 'rolling_feature': True, 'technical_feature': False, 'nonlinear_feature': False, 'autocorr_feature': False, 'trend_feature': False} 0.8280729232418096\n",
      "VNM {'calendar_feature': True, 'rolling_feature': True, 'technical_feature': True, 'nonlinear_feature': False, 'autocorr_feature': False, 'trend_feature': False} 0.8188401593266306\n",
      "VNM {'calendar_feature': True, 'rolling_feature': True, 'technical_feature': True, 'nonlinear_feature': True, 'autocorr_feature': False, 'trend_feature': False} 0.8246065791511302\n",
      "VNM {'calendar_feature': True, 'rolling_feature': True, 'technical_feature': True, 'nonlinear_feature': True, 'autocorr_feature': True, 'trend_feature': False} 0.825787469318325\n",
      "VNM {'calendar_feature': True, 'rolling_feature': True, 'technical_feature': True, 'nonlinear_feature': True, 'autocorr_feature': True, 'trend_feature': True} 0.8257828373442401\n",
      "VPB {'calendar_feature': False, 'rolling_feature': False, 'technical_feature': False, 'nonlinear_feature': False, 'autocorr_feature': False, 'trend_feature': False} 0.7850782269940273\n",
      "VPB {'calendar_feature': True, 'rolling_feature': False, 'technical_feature': False, 'nonlinear_feature': False, 'autocorr_feature': False, 'trend_feature': False} 0.7836788472513019\n",
      "VPB {'calendar_feature': True, 'rolling_feature': True, 'technical_feature': False, 'nonlinear_feature': False, 'autocorr_feature': False, 'trend_feature': False} 0.7774770368146726\n",
      "VPB {'calendar_feature': True, 'rolling_feature': True, 'technical_feature': True, 'nonlinear_feature': False, 'autocorr_feature': False, 'trend_feature': False} 0.7790612118485503\n",
      "VPB {'calendar_feature': True, 'rolling_feature': True, 'technical_feature': True, 'nonlinear_feature': True, 'autocorr_feature': False, 'trend_feature': False} 0.7815033783214266\n",
      "VPB {'calendar_feature': True, 'rolling_feature': True, 'technical_feature': True, 'nonlinear_feature': True, 'autocorr_feature': True, 'trend_feature': False} 0.7817323928562254\n",
      "VPB {'calendar_feature': True, 'rolling_feature': True, 'technical_feature': True, 'nonlinear_feature': True, 'autocorr_feature': True, 'trend_feature': True} 0.780977845057957\n",
      "VRE {'calendar_feature': False, 'rolling_feature': False, 'technical_feature': False, 'nonlinear_feature': False, 'autocorr_feature': False, 'trend_feature': False} 0.8427586200564983\n",
      "VRE {'calendar_feature': True, 'rolling_feature': False, 'technical_feature': False, 'nonlinear_feature': False, 'autocorr_feature': False, 'trend_feature': False} 0.8412137071653379\n",
      "VRE {'calendar_feature': True, 'rolling_feature': True, 'technical_feature': False, 'nonlinear_feature': False, 'autocorr_feature': False, 'trend_feature': False} 0.8361541973152018\n",
      "VRE {'calendar_feature': True, 'rolling_feature': True, 'technical_feature': True, 'nonlinear_feature': False, 'autocorr_feature': False, 'trend_feature': False} 0.8372372510054735\n",
      "VRE {'calendar_feature': True, 'rolling_feature': True, 'technical_feature': True, 'nonlinear_feature': True, 'autocorr_feature': False, 'trend_feature': False} 0.8376235948324192\n",
      "VRE {'calendar_feature': True, 'rolling_feature': True, 'technical_feature': True, 'nonlinear_feature': True, 'autocorr_feature': True, 'trend_feature': False} 0.8341465939726129\n",
      "VRE {'calendar_feature': True, 'rolling_feature': True, 'technical_feature': True, 'nonlinear_feature': True, 'autocorr_feature': True, 'trend_feature': True} 0.8340848210492806\n"
     ]
    }
   ],
   "source": [
    "result = {flag: [] for flag in flags_list}\n",
    "for code in VN30:\n",
    "  flags_dict = {\n",
    "    flag: False for flag in flags_list if flag != \"none\"\n",
    "  }\n",
    "  for flag in flags_list:\n",
    "    if flag in flags_dict:\n",
    "      flags_dict[flag] = True\n",
    "    data = preprocess_v1(code, **flags_dict)\n",
    "    X_train, y_train = data['train']\n",
    "    X_val, y_val = data['val']\n",
    "    X_test, y_test = data['test']\n",
    "    feature_sc = data['scaler']['feature']\n",
    "    target_sc = data['scaler']['target']\n",
    "    model = train(X_train, y_train)\n",
    "    y_test_pred = model.predict(X_test)\n",
    "    r2 = r2_score(y_test, y_test_pred)\n",
    "    result[flag].append(r2)\n",
    "    print(code, flags_dict, r2)\n",
    "\n",
    "df = DataFrame(result, index=VN30)\n",
    "df.to_csv(\"ridge.csv\")"
   ]
  }
 ],
 "metadata": {
  "kernelspec": {
   "display_name": "venv",
   "language": "python",
   "name": "python3"
  },
  "language_info": {
   "codemirror_mode": {
    "name": "ipython",
    "version": 3
   },
   "file_extension": ".py",
   "mimetype": "text/x-python",
   "name": "python",
   "nbconvert_exporter": "python",
   "pygments_lexer": "ipython3",
   "version": "3.10.12"
  }
 },
 "nbformat": 4,
 "nbformat_minor": 5
}
