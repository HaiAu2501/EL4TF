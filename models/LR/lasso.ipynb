{
 "cells": [
  {
   "cell_type": "code",
   "execution_count": 1,
   "id": "2994cb76",
   "metadata": {},
   "outputs": [],
   "source": [
    "import os, sys\n",
    "from pathlib import Path\n",
    "\n",
    "sys.path.append(str(Path.cwd().resolve().parent))\n",
    "\n",
    "from preprocess import VN30, preprocess_v1"
   ]
  },
  {
   "cell_type": "markdown",
   "id": "c33fa57a",
   "metadata": {},
   "source": [
    "# Bước 1: Tiền xử lý dữ liệu"
   ]
  },
  {
   "cell_type": "code",
   "execution_count": 2,
   "id": "eb7b8bd1",
   "metadata": {},
   "outputs": [
    {
     "name": "stdout",
     "output_type": "stream",
     "text": [
      "=== Preprocessing ACB ===\n",
      "Train shape: (1213, 201), Val shape: (0, 201), Test shape: (296, 201)\n"
     ]
    }
   ],
   "source": [
    "# Nếu sử dụng LassoCV thì đặt val = 0.0 do CV tự động chia tập train và valid\n",
    "X_train, Y_train, X_valid, Y_valid, X_test, Y_test = preprocess_v1('ACB', val=0.0, verbose=True)"
   ]
  },
  {
   "cell_type": "code",
   "execution_count": 3,
   "id": "771e344a",
   "metadata": {},
   "outputs": [],
   "source": [
    "# Tất cả mã chứng khoán đều nằm trong VN30\n",
    "# for code in VN30:\n",
    "# \tprint(code)"
   ]
  },
  {
   "cell_type": "markdown",
   "id": "6e9454ec",
   "metadata": {},
   "source": [
    "# Bước 2: Huấn luyện mô hình\n",
    "* Lasso (lag = 30, 7 flags)\n",
    "* Multi-task Lasso (lag = 30, 7 flags)"
   ]
  },
  {
   "cell_type": "code",
   "execution_count": null,
   "id": "02b1e87f",
   "metadata": {},
   "outputs": [],
   "source": []
  },
  {
   "cell_type": "markdown",
   "id": "f30a3e0a",
   "metadata": {},
   "source": [
    "# Bước 3: Đánh giá mô hình"
   ]
  },
  {
   "cell_type": "code",
   "execution_count": null,
   "id": "ad610506",
   "metadata": {},
   "outputs": [],
   "source": []
  },
  {
   "cell_type": "markdown",
   "id": "76b10298",
   "metadata": {},
   "source": [
    "# Đánh giá toàn bộ dữ liệu"
   ]
  }
 ],
 "metadata": {
  "kernelspec": {
   "display_name": "env",
   "language": "python",
   "name": "python3"
  },
  "language_info": {
   "codemirror_mode": {
    "name": "ipython",
    "version": 3
   },
   "file_extension": ".py",
   "mimetype": "text/x-python",
   "name": "python",
   "nbconvert_exporter": "python",
   "pygments_lexer": "ipython3",
   "version": "3.12.0"
  }
 },
 "nbformat": 4,
 "nbformat_minor": 5
}
