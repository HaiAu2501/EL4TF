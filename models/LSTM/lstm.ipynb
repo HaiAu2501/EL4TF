{
 "cells": [
  {
   "cell_type": "code",
   "execution_count": 30,
   "id": "b9511284",
   "metadata": {},
   "outputs": [],
   "source": [
    "import sys\n",
    "import os\n",
    "from pathlib import Path\n",
    "\n",
    "cwd = Path.cwd().resolve().parent\n",
    "sys.path.append(str(cwd))\n",
    "\n",
    "from preprocess import VN30, preprocess_loader\n"
   ]
  },
  {
   "cell_type": "code",
   "execution_count": 31,
   "id": "d927befc",
   "metadata": {},
   "outputs": [],
   "source": [
    "train_loader, valid_loader, test_loader, scaler = preprocess_loader('ACB',lag = 30, batch_size=16)"
   ]
  },
  {
   "cell_type": "code",
   "execution_count": 32,
   "id": "f0de3d82",
   "metadata": {},
   "outputs": [],
   "source": [
    "import torch.nn as nn\n",
    "\n",
    "class StockPredictorModel(nn.Module):\n",
    "    def __init__(self, input_features, hidden_size, num_output_features):\n",
    "        super().__init__()\n",
    "        self.lstm = nn.LSTM(input_size=input_features, hidden_size=hidden_size, num_layers=1, batch_first=True)\n",
    "        self.linear = nn.Linear(hidden_size, num_output_features)\n",
    "\n",
    "    def forward(self, x):\n",
    "        lstm_out, _ = self.lstm(x)\n",
    "        last_time_step_out = lstm_out[:, -1, :]\n",
    "        y_pred = self.linear(last_time_step_out)\n",
    "        return y_pred"
   ]
  },
  {
   "cell_type": "code",
   "execution_count": 33,
   "id": "202c2525",
   "metadata": {},
   "outputs": [],
   "source": [
    "import torch.optim as optim\n",
    "import torch.utils.data as data\n",
    "num_features = 5\n",
    "hidden_layer_size = 128\n",
    "model = StockPredictorModel(input_features=num_features, hidden_size=hidden_layer_size, num_output_features=num_features)\n",
    "optimizer = optim.Adam(model.parameters(), lr=0.001)\n",
    "loss_fn = nn.MSELoss()"
   ]
  },
  {
   "cell_type": "code",
   "execution_count": 34,
   "id": "d4535807",
   "metadata": {},
   "outputs": [
    {
     "name": "stdout",
     "output_type": "stream",
     "text": [
      "\n",
      "Bắt đầu quá trình huấn luyện...\n",
      "Epoch  10/50: Train Loss = 0.097226, Valid Loss = 1.318478, Best Val Loss = 1.314640\n",
      "Epoch  20/50: Train Loss = 0.093858, Valid Loss = 1.330146, Best Val Loss = 1.310402\n",
      "Epoch  30/50: Train Loss = 0.093128, Valid Loss = 1.322339, Best Val Loss = 1.300552\n",
      "Epoch  40/50: Train Loss = 0.087942, Valid Loss = 1.434571, Best Val Loss = 1.300552\n",
      "Epoch  50/50: Train Loss = 0.081564, Valid Loss = 1.958372, Best Val Loss = 1.300552\n",
      "\n",
      "Hoàn thành huấn luyện.\n"
     ]
    }
   ],
   "source": [
    "import torch\n",
    "from sklearn.metrics import r2_score\n",
    "n_epochs = 50\n",
    "print_every = 10 \n",
    "\n",
    "best_val_loss = float('inf')\n",
    "\n",
    "print(\"\\nBắt đầu quá trình huấn luyện...\")\n",
    "for epoch in range(1, n_epochs+1):\n",
    "    # --- training ---\n",
    "    model.train()\n",
    "    train_loss_sum = 0.0\n",
    "    for Xb, yb in train_loader:\n",
    "        pred = model(Xb)\n",
    "        loss = loss_fn(pred, yb)\n",
    "        optimizer.zero_grad()\n",
    "        loss.backward()\n",
    "        optimizer.step()\n",
    "        train_loss_sum += loss.item()\n",
    "    avg_train_loss = train_loss_sum / len(train_loader)\n",
    "\n",
    "    # --- tính validation loss ---\n",
    "    model.eval()\n",
    "    val_loss = 0.0\n",
    "    with torch.no_grad():\n",
    "        for xv, yv in valid_loader:\n",
    "            pred = model(xv)\n",
    "            loss = loss_fn(pred, yv)\n",
    "            val_loss += loss.item()\n",
    "\n",
    "    # --- lưu model nếu validation loss giảm ---\n",
    "    if val_loss < best_val_loss:\n",
    "        best_val_loss = val_loss\n",
    "        torch.save(model.state_dict(), 'best_LSTM_model.pth')\n",
    "\n",
    "    # --- in thông tin ---\n",
    "    if epoch % print_every == 0 or epoch == n_epochs:\n",
    "        print(f\"Epoch {epoch:3d}/{n_epochs}: \"\n",
    "              f\"Train Loss = {avg_train_loss:.6f}, \"\n",
    "              f\"Valid Loss = {val_loss:.6f}, \"\n",
    "              f\"Best Val Loss = {best_val_loss:.6f}\")\n",
    "\n",
    "print(\"\\nHoàn thành huấn luyện.\")"
   ]
  },
  {
   "cell_type": "code",
   "execution_count": null,
   "id": "caac923e",
   "metadata": {},
   "outputs": [
    {
     "name": "stdout",
     "output_type": "stream",
     "text": [
      "\n",
      "--- KẾT QUẢ TRÊN TẬP VALID  ---\n",
      "RMSE: 1266096.7494457087\n",
      "R²: 0.8503650643251421\n",
      "MAPE: 7.769248479436448%\n"
     ]
    }
   ],
   "source": [
    "from sklearn.metrics import mean_absolute_percentage_error, mean_squared_error\n",
    "import numpy as np\n",
    "model.load_state_dict(torch.load('best_LSTM_model.pth', map_location='cpu'))\n",
    "model.eval()\n",
    "\n",
    "with torch.no_grad():\n",
    "    for xv, yv in valid_loader:\n",
    "        y_pred_val = model(xv)\n",
    "        y_pred_val = scaler.inverse_transform(y_pred_val)\n",
    "        y_true_val = scaler.inverse_transform(yv)\n",
    "\n",
    "mse_val = mean_squared_error(y_true_val.flatten(), y_pred_val.flatten())\n",
    "rmse_val = np.sqrt(mse_val)\n",
    "r2_val = r2_score(y_true_val.flatten(), y_pred_val.flatten())\n",
    "mape_val = mean_absolute_percentage_error(y_true_val.flatten(), y_pred_val.flatten()) * 100\n",
    "\n",
    "print(\"\\n--- KẾT QUẢ TRÊN TẬP VALID  ---\")\n",
    "print(f\"RMSE: {rmse_val}\")\n",
    "print(f\"R²: {r2_val}\")\n",
    "print(f\"MAPE: {mape_val}%\")"
   ]
  },
  {
   "cell_type": "code",
   "execution_count": null,
   "id": "27144f34",
   "metadata": {},
   "outputs": [
    {
     "name": "stdout",
     "output_type": "stream",
     "text": [
      "--- KẾT QUẢ TRÊN TẬP TEST ---\n",
      "RMSE: 2367768.1231244626\n",
      "R²: 0.6142475658802484\n",
      "MAPE: 20.657229978587345%\n"
     ]
    }
   ],
   "source": [
    "from sklearn.metrics import mean_squared_error, r2_score, mean_absolute_percentage_error\n",
    "\n",
    "model.load_state_dict(torch.load('best_LSTM_model.pth', map_location='cpu'))\n",
    "model.eval()\n",
    "\n",
    "preds = []\n",
    "trues = []\n",
    "with torch.no_grad():\n",
    "    for xt, yt in test_loader:\n",
    "        y_pred = model(xt)\n",
    "        y_pred = scaler.inverse_transform(y_pred)\n",
    "        y_true = scaler.inverse_transform(yt)\n",
    "        preds.append(y_pred)\n",
    "        trues.append(y_true)\n",
    "\n",
    "\t   \n",
    "\n",
    "mse_test = mean_squared_error(y_true.flatten(), y_pred.flatten())\n",
    "rmse_test = np.sqrt(mse_test)\n",
    "r2_test = r2_score(y_true.flatten(), y_pred.flatten())\n",
    "mape_test = mean_absolute_percentage_error(y_true.flatten(), y_pred.flatten()) * 100\n",
    "\n",
    "print(\"--- KẾT QUẢ TRÊN TẬP TEST ---\")\n",
    "print(f\"RMSE: {rmse_test}\")\n",
    "print(f\"R²: {r2_test}\")\n",
    "print(f\"MAPE: {mape_test}%\")"
   ]
  },
  {
   "cell_type": "code",
   "execution_count": 37,
   "id": "060d06e5",
   "metadata": {},
   "outputs": [
    {
     "data": {
      "image/png": "[encoded data removed]",
      "text/plain": [
       "<Figure size 1500x500 with 1 Axes>"
      ]
     },
     "metadata": {},
     "output_type": "display_data"
    }
   ],
   "source": [
    "import matplotlib.pyplot as plt\n",
    "\n",
    "\n",
    "plt.figure(figsize=(15, 5))\n",
    "plt.plot(y_true[:, 0], label='Giá thực tế', color='blue')\n",
    "plt.plot(y_pred[:, 0], label='Giá dự đoán', color='red')\n",
    "\n",
    "plt.show()"
   ]
  }
 ],
 "metadata": {
  "kernelspec": {
   "display_name": "Python 3",
   "language": "python",
   "name": "python3"
  },
  "language_info": {
   "codemirror_mode": {
    "name": "ipython",
    "version": 3
   },
   "file_extension": ".py",
   "mimetype": "text/x-python",
   "name": "python",
   "nbconvert_exporter": "python",
   "pygments_lexer": "ipython3",
   "version": "3.12.3"
  }
 },
 "nbformat": 4,
 "nbformat_minor": 5
}
