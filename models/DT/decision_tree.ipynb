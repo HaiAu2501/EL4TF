{
 "cells": [
  {
   "cell_type": "code",
   "execution_count": 1,
   "id": "cc931cb8",
   "metadata": {},
   "outputs": [],
   "source": [
    "import os, sys\n",
    "from pathlib import Path\n",
    "\n",
    "sys.path.append(str(Path.cwd().resolve().parent))\n",
    "\n",
    "from preprocess import VN30, preprocess_v1\n",
    "from sklearn.preprocessing import StandardScaler"
   ]
  },
  {
   "cell_type": "markdown",
   "id": "e6745ac5",
   "metadata": {},
   "source": [
    "# Bước 1: Tiền xử lý dữ liệu"
   ]
  },
  {
   "cell_type": "code",
   "execution_count": 2,
   "id": "dc0cc8aa",
   "metadata": {},
   "outputs": [
    {
     "name": "stdout",
     "output_type": "stream",
     "text": [
      "=== Preprocessing ACB ===\n",
      "Train shape: (1213, 201), Val shape: (0, 201), Test shape: (296, 201)\n"
     ]
    }
   ],
   "source": [
    "# Nếu sử dụng ElasticNetCV thì đặt val = 0.0 do CV tự động chia tập train và valid\n",
    "scaler = StandardScaler()\n",
    "X_train, Y_train, X_valid, Y_valid, X_test, Y_test = preprocess_v1('ACB', scaler=scaler, val=0.0, verbose=True)"
   ]
  },
  {
   "cell_type": "markdown",
   "id": "52b2ec2f",
   "metadata": {},
   "source": [
    "# Bước 2: Huấn luyện mô hình"
   ]
  },
  {
   "cell_type": "code",
   "execution_count": null,
   "id": "78f98a7f",
   "metadata": {},
   "outputs": [],
   "source": []
  },
  {
   "cell_type": "markdown",
   "id": "1806d091",
   "metadata": {},
   "source": [
    "# Bước 3: Đánh giá mô hình"
   ]
  },
  {
   "cell_type": "code",
   "execution_count": null,
   "id": "925fcb09",
   "metadata": {},
   "outputs": [],
   "source": []
  }
 ],
 "metadata": {
  "kernelspec": {
   "display_name": "env",
   "language": "python",
   "name": "python3"
  },
  "language_info": {
   "codemirror_mode": {
    "name": "ipython",
    "version": 3
   },
   "file_extension": ".py",
   "mimetype": "text/x-python",
   "name": "python",
   "nbconvert_exporter": "python",
   "pygments_lexer": "ipython3",
   "version": "3.12.0"
  }
 },
 "nbformat": 4,
 "nbformat_minor": 5
}
